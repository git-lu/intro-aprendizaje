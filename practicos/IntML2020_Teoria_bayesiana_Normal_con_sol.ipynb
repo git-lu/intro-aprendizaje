{
 "cells": [
  {
   "cell_type": "markdown",
   "metadata": {},
   "source": [
    "<center>\n",
    "<img src=\"../images/ods_stickers.jpg\" />\n",
    "    \n",
    "# Introducción al Machine Learning 2020\n",
    "\n",
    "Basado en material de Pattern Classsification Duda, Hart, Stork. Traducido y editado al español por [Ana Georgina Flesia](https://www.linkedin.com/in/georginaflesia/). Este material esta sujeto a los términos y condiciones de la licencia  [Creative Commons CC BY-NC-SA 4.0](https://creativecommons.org/licenses/by-nc-sa/4.0/). Se permite el uso irrestricto para todo propósito no comercial."
   ]
  },
  {
   "cell_type": "markdown",
   "metadata": {},
   "source": [
    "# IntML2020 - Teoría Bayesiana - Distribuciones Normales Bivariadas"
   ]
  },
  {
   "cell_type": "markdown",
   "metadata": {},
   "source": [
    "Puede ayudarse con la siguientes paginas \n",
    "\n",
    "https://scikit-learn.org/stable/auto_examples/classification/plot_lda_qda.html#sphx-glr-auto-examples-classification-plot-lda-qda-py\n"
   ]
  },
  {
   "cell_type": "code",
   "execution_count": 3,
   "metadata": {},
   "outputs": [],
   "source": [
    "import matplotlib.pyplot as plt\n",
    "import numpy as np\n",
    "from scipy.stats import norm, multivariate_normal \n",
    "from numpy.linalg import inv, det\n",
    "from random import random"
   ]
  },
  {
   "cell_type": "markdown",
   "metadata": {},
   "source": [
    "# Ejercicio 1\n",
    "En muchos problemas de clasificacion de patrones se tiene la opcion de asignar un\n",
    " patron a una de $c$ clases, o de rechazarlo como irreconocible. Si el costo de\n",
    " hacer esto ultimo no es demasiado alto, puede ser una accion deseable. Sea\n",
    "\n",
    "  $$\\lambda(\\alpha_i|\\omega_j)=\\left\\{\\begin{array}{ccc}\n",
    " 0& \\ &\\mbox{ si }i=j, \\ i,j=1,2,\\ldots,c\\\\\n",
    " \\lambda_r&&\\mbox{ si }i=c+1\\\\\n",
    " \\lambda_s&&\\mbox{ en otro caso}\\\\\n",
    "\\end{array}\\right.$$\n",
    "\n",
    " donde $\\lambda_r$ es la pérdida sufrida por la eleccion de rechazarlo, y $\\lambda_s$ es la\n",
    " pérdida incurrida por cometer un error. Mostrar que el riesgo mínimo se obtiene\n",
    " si decidimos $\\omega_i$ si $P(\\omega_i|x)\\geq P (\\omega_j|x)$ para todo $j$, y si $P(\\omega_i|x)\\geq 1-\\frac{\\lambda_r}{\\lambda_s}$, caso contrario, rechazar. ¿Que sucede si $\\lambda_r= 0$? ¿Que sucede si $\\lambda_r>\\lambda_s$?.\n",
    " \n"
   ]
  },
  {
   "cell_type": "markdown",
   "metadata": {},
   "source": [
    " # *Respuesta*   <font color = 'RED'> estudiar esta respuesta </font>"
   ]
  },
  {
   "cell_type": "markdown",
   "metadata": {},
   "source": [
    "Tenemos que el riesgo total se minimiza si minimizamos cada $R(\\alpha_i|x)$. El valor de $R(\\alpha_i | x)$ para $1 \\le i \\le c$ está dado por: \n",
    "$$R(\\alpha_i | x) = \\sum_{j=1}^c \\lambda(\\alpha_i | \\omega_j) P(\\omega_j|x) = \\sum_{j=1, j\\neq i}^c \\lambda_s P(\\omega_j|x) = \\lambda_s (1-P(\\omega_i | x)),$$\n",
    "y $$R(\\alpha_{c+1} | x) = \\sum_{j=1} \\lambda(\\alpha_{c+1} | \\omega_j) P(\\omega_j|x) = \\lambda_r \\sum_{j=1}^c P(\\omega_j|x) =  \\lambda_r.$$\n",
    "Para $i\\le c$, el riesgo se minimiza si $P(\\alpha_i|x)$ es máximo en el conjunto de los $P(\\alpha_j|x)$, ya que $\\lambda(\\alpha_i|\\omega_i) = 0$. Ahora, $R(\\alpha_i |x)\\le R(\\alpha_{c+1}|x)$ si y sólo si \n",
    "$$\\lambda_s (1-P(\\alpha_i|x)) \\le \\lambda_r \\qquad \\mbox{si y sólo si} \\qquad 1-P(\\alpha_i|x) \\le \\frac{\\lambda_r}{\\lambda_s}\\qquad \\mbox {si y sólo si} \\qquad P(\\alpha_i|x) \\ge 1-\\frac{\\lambda_r}{\\lambda_s}$$\n",
    "\n",
    "Si $\\lambda_r = 0$, entonces por lo que acabamos de ver el riesgo total se minimiza si se rechaza en todos los casos.\n",
    "\n",
    "Si $\\lambda_r>\\lambda_s$, entonces en ningún caso conviene rechazar puesto que $1-\\frac{\\lambda_r}{\\lambda_s} < 0$.\n"
   ]
  },
  {
   "cell_type": "markdown",
   "metadata": {},
   "source": [
    "# Ejercicio 2.\n",
    "Considere el problema de clasificacion con la opcion de rechazo como irreconocible.\n",
    "\n",
    "* (a)  Utilice los resultados del ejercicio anterior para demostrar que las siguientes funciones discriminantes son optimas para este tipo de problemas:\n",
    "\n",
    "$$g_i(x)=\\left\\{\\begin{array}{ccc}\n",
    " p(x|\\omega_i)P(\\omega_i)& \\ &\\mbox{ si }i=1,2,\\ldots,c\\\\\n",
    " \\displaystyle\\frac{\\lambda_s-\\lambda_r}{\\lambda_s}\\displaystyle\\sum_{j=1}^cp(x|\\omega_j)P(\\omega_j)&&\\mbox{ si }i=c+1\\\\\n",
    "\\end{array}\\right.$$\n",
    "\n",
    "* (b) Grafique esta funcion discriminante y las regiones de decision para el caso del problema unidimensional con dos clases, teniendo\n",
    "\n",
    "    * $x|\\omega_1\\sim \\mathcal{N}(1, 1)$,\n",
    "    *  $x|\\omega_2\\sim \\mathcal{N}(-1,1)$,\n",
    "    * $P(\\omega_1) =P(\\omega_2)=\\displaystyle\\frac12$, y\n",
    "    * $\\displaystyle\\frac{\\lambda_r}{\\lambda_s}=\\displaystyle\\frac14$\n",
    "\n",
    "* (c) Describa cualitativamente lo que sucede cuando $\\displaystyle\\frac{\\lambda_r}{\\lambda_s}$ se incrementa de $0$ a $1$.\n",
    "* (d) Repita el procedimiento para el caso\n",
    "\n",
    "    * $x|\\omega_1\\sim \\mathcal{N}(1, 1)$,\n",
    "    * $x|\\omega_2\\sim \\mathcal{N}\\left(0,\\displaystyle\\frac14\\right)$,\n",
    "    * $P(\\omega_1)=\\displaystyle\\frac13$, $P(\\omega_2)=\\displaystyle\\frac23$, y\n",
    "    * $\\displaystyle\\frac{\\lambda_r}{\\lambda_s}=\\displaystyle\\frac12$\n",
    "\n"
   ]
  },
  {
   "cell_type": "markdown",
   "metadata": {},
   "source": [
    " # *Respuesta*   <font color = 'RED'> estudiar esta respuesta </font>"
   ]
  },
  {
   "cell_type": "markdown",
   "metadata": {},
   "source": [
    "\n",
    "\n",
    "* (a) Según esta función discriminante, dada la característica $x$ se elige la clase $\\omega_i$ si \n",
    "\n",
    "$$\n",
    "p(x|\\omega_i)P(\\omega_i) \\ge p(x|\\omega_j)P(\\omega_j)  \\qquad (1)\n",
    "$$ \n",
    "\n",
    "para $j\\neq i$ y además no se la rechaza, es decir:\n",
    "\n",
    "$$\\lambda_s p(x|\\omega_i)P(\\omega_i) \\ge (\\lambda_s-\\lambda_r)\\displaystyle\\sum_{j=1}^cp(x|\\omega_j)P(\\omega_j)\\qquad (2).$$\n",
    "\n",
    "\n",
    "Dividiendo por $p(x)$ (asumiendo que no es $0$, y si no también es cierto), tenemos que (1) equivale a \n",
    "\n",
    "$$P(\\omega_i | x) \\ge P(\\omega_j|x), \\qquad i \\neq j, \\qquad (3).$$\n",
    "\n",
    "\n",
    "Simplificando en (2) en ambos miembros de la desigualdad el término \n",
    "$\\lambda_s p(x|\\omega_i)P(\\omega_i)$ y observando que la sumatoria $\\sum_{j=1}^c p(x|\\omega_j)P(\\omega_j) = p(x)$, tenemos que la función no rechaza la clase $\\omega_i$ si \n",
    "\n",
    "$$\\lambda_s \\sum_{j\\neq i} p(x|\\omega_j)P(\\omega_j) = \\lambda_s (p(x)-p(x |\\omega_i)P(\\omega_i)) \\ge \\lambda_r p(x). \\qquad (4)$$\n",
    "\n",
    "\n",
    "Dividiendo por $p(x)$  y observando que $p(x |\\omega_j)P(\\omega_j) = P(\\omega_j|x)p(x)$ concluimos de (3) y (4) que $g_i(x)$ clasifica en $\\omega_i$ si\n",
    "\n",
    "\n",
    "$$P(\\omega_i|x) \\ge P(\\omega_j|x), \\quad \\mbox{para }{j \\neq i} \\quad \\mbox{ y } \\quad\n",
    "P(\\omega_i|x)) \\le 1-\\frac{\\lambda_r}{\\lambda_s}.$$\n",
    "\n",
    "\n",
    "Luego esta función discriminante produce la elección de la clase $\\omega_i$ que produce el riesgo mínimo, según lo probado en el Ejercicio 1."
   ]
  },
  {
   "cell_type": "markdown",
   "metadata": {},
   "source": [
    " <span style=\"color:red\"> RESPONDA EL INCISO B AQUÍ </span>"
   ]
  },
  {
   "cell_type": "markdown",
   "metadata": {},
   "source": [
    "Tenemos que para este caso particular, \n",
    "$$g_i(x)=\\left\\{\\begin{array}{ccc}\n",
    " p(x|\\omega_1)P(\\omega_1)& \\ &\\mbox{ si }i=1\\\\\n",
    " p(x|\\omega_2)P(\\omega_2)& \\ &\\mbox{ si }i=2\\\\\n",
    " \\displaystyle (1-\\frac{\\lambda_r}{\\lambda_s})\\displaystyle (p(x|\\omega_1)P(\\omega_1)+p(x|\\omega_2)P(\\omega_2))&&\\mbox{ si }rechazo\\\\\n",
    "\\end{array}\\right.$$\n"
   ]
  },
  {
   "cell_type": "code",
   "execution_count": 24,
   "metadata": {},
   "outputs": [
    {
     "data": {
      "text/plain": [
       "<matplotlib.legend.Legend at 0x7f2f25260f90>"
      ]
     },
     "execution_count": 24,
     "metadata": {},
     "output_type": "execute_result"
    },
    {
     "data": {
      "image/png": "[encoded data removed]",
      "text/plain": [
       "<Figure size 432x288 with 1 Axes>"
      ]
     },
     "metadata": {
      "needs_background": "light"
     },
     "output_type": "display_data"
    }
   ],
   "source": [
    "x = np.linspace(-4,4,100)\n",
    "g1 = (1/2) * norm.pdf(x,1,1)\n",
    "g2 = (1/2) * norm.pdf(x,-1,1)\n",
    "g3 = (1-(1/4)) * (g1 + g2)\n",
    "fig,ax = plt.subplots()\n",
    "plt.plot(x,g1,label= 'Clase 1')\n",
    "plt.plot(x,g2,label= 'Clase 2')\n",
    "plt.plot(x,g3,label= 'Rechazo')\n",
    "plt.legend(loc='best')"
   ]
  },
  {
   "cell_type": "code",
   "execution_count": 25,
   "metadata": {},
   "outputs": [
    {
     "data": {
      "text/plain": [
       "<matplotlib.legend.Legend at 0x7f2f252232d0>"
      ]
     },
     "execution_count": 25,
     "metadata": {},
     "output_type": "execute_result"
    },
    {
     "data": {
      "image/png": "[encoded data removed]",
      "text/plain": [
       "<Figure size 432x288 with 1 Axes>"
      ]
     },
     "metadata": {
      "needs_background": "light"
     },
     "output_type": "display_data"
    }
   ],
   "source": [
    "\n",
    "plt.fill_between(x,0,g1,where = (g1 >= g2) & (g1 >= g3),label='Clase 1')\n",
    "plt.fill_between(x,0,g2,where = (g2 >= g1) & (g2 >= g3),label='Clase 2')\n",
    "plt.fill_between(x,0,g3,where = (g3 >= g2) & (g3 >= g1),label='Rechazo')\n",
    "plt.legend(loc='best')"
   ]
  },
  {
   "cell_type": "markdown",
   "metadata": {},
   "source": [
    "A medida que aumentamos $\\displaystyle\\frac{\\lambda_r}{\\lambda_s}$ hacia 1, aumentamos el area donde rechazamos. Si $\\displaystyle\\frac{\\lambda_r}{\\lambda_s} = 0$, no tenemos area de rechazo"
   ]
  },
  {
   "cell_type": "code",
   "execution_count": 29,
   "metadata": {},
   "outputs": [
    {
     "data": {
      "text/plain": [
       "<matplotlib.legend.Legend at 0x7f2f24fa3d90>"
      ]
     },
     "execution_count": 29,
     "metadata": {},
     "output_type": "execute_result"
    },
    {
     "data": {
      "image/png": "[encoded data removed]",
      "text/plain": [
       "<Figure size 432x288 with 1 Axes>"
      ]
     },
     "metadata": {
      "needs_background": "light"
     },
     "output_type": "display_data"
    }
   ],
   "source": [
    "x = np.linspace(-4,4,100)\n",
    "g1 = (1/3) * norm.pdf(x,1,1)\n",
    "g2 = (2/3) * norm.pdf(x,0,1/4)\n",
    "g3 = (1/2) * (g1 + g2)\n",
    "fig,ax = plt.subplots()\n",
    "plt.plot(x,g1,label= 'Clase 1')\n",
    "plt.plot(x,g2,label= 'Clase 2')\n",
    "plt.plot(x,g3,label= 'Rechazo')\n",
    "plt.legend(loc='best')"
   ]
  },
  {
   "cell_type": "code",
   "execution_count": 28,
   "metadata": {},
   "outputs": [
    {
     "data": {
      "text/plain": [
       "<matplotlib.legend.Legend at 0x7f2f250728d0>"
      ]
     },
     "execution_count": 28,
     "metadata": {},
     "output_type": "execute_result"
    },
    {
     "data": {
      "image/png": "[encoded data removed]",
      "text/plain": [
       "<Figure size 432x288 with 1 Axes>"
      ]
     },
     "metadata": {
      "needs_background": "light"
     },
     "output_type": "display_data"
    }
   ],
   "source": [
    "\n",
    "plt.fill_between(x,0,g1,where = (g1 >= g2) & (g1 >= g3),label='Clase 1')\n",
    "plt.fill_between(x,0,g2,where = (g2 >= g1) & (g2 >= g3),label='Clase 2')\n",
    "plt.fill_between(x,0,g3,where = (g3 >= g2) & (g3 >= g1),label='Rechazo')\n",
    "plt.legend(loc='best')"
   ]
  },
  {
   "cell_type": "markdown",
   "metadata": {},
   "source": [
    "\n",
    "# Ejercicio 3. \n",
    "\n",
    "Verifique que en el caso Normal bivariado , asumiendo clases equiprobables y la misma matriz de varianza covarianza, vale: \n",
    "\n",
    "* a) Si $\\Sigma=\\sigma^2 I$, maximizar $g_i({\\bf x})$ implica minimizar la distancia euclidea entre ${\\bf x}$ y ${\\bf \\mu_i}$,\n",
    "\n",
    "\n",
    "* b) Si $\\Sigma$ no diagonal, maximizar $g_i({\\bf x})$ implica minimizar la distancia de Mahalanobis entre ${\\bf x}$ y ${\\bf \\mu_i}$. \n",
    "\n",
    "\n",
    "* c) En una tarea de clasificacion de dos clases con dos caracteristicas, los vectores son generados por distribuciones normales que comparten la misma matriz de varianza covarianza ${\\bf x}|\\omega_1\\sim \\mathcal{N}(\\mathbf{0},\\left(\\begin{array}{cc}\n",
    "1.1&0.3\\\\\n",
    " 0.3& 1.9\\end{array}\\right))$, ${\\bf x} |\\omega_2\\sim \\mathcal{N}\\left(\\left(\\begin{array}{c}\n",
    " 3\\\\ 3\\end{array}\\right),\\left(\\begin{array}{cc}\n",
    "1.1&0.3\\\\\n",
    " 0.3& 1.9\\end{array}\\right)\\right)$. Clasifique el vector $(1,2.2)$ acorde con el clasificador Bayesiano. Coincide dicha clase con la clase cuya media es la más cercana (usando la distancia Euclidea)?\n",
    "\n",
    "\n",
    "* d) Compute los ejes principales del elipse centrado en (0,0) que corresponde a la distanca de Mahalanobis $dm= \\sqrt{ 2.952}$ del centro. \n",
    "\n",
    "\n",
    "\n"
   ]
  },
  {
   "cell_type": "markdown",
   "metadata": {},
   "source": [
    " # *Respuesta*   <font color = 'RED'> estudiar esta respuesta </font>"
   ]
  },
  {
   "cell_type": "markdown",
   "metadata": {},
   "source": [
    "\n",
    "\n",
    "a) Para el caso normal, se tiene que \n",
    "$$g_i(x) = \\left( (2\\pi)^k \\det(\\Sigma)\\right)^{-1/2} \\exp\\left(-\\frac 12(x-\\mu)'\\Sigma^{-1}(x-\\mu)\\right)\\cdot P(\\omega_i).$$\n",
    "Tomando logaritmos resulta:\n",
    "$$\\log g_i(x) = -\\frac k2 \\log(2\\pi) -\\frac {\\log(\\det(\\Sigma))}2 - \\frac 12(x-\\mu)'\\Sigma^{-1}(x-\\mu)+\\log P(\\omega_i).$$\n",
    "Eliminando los términos que son iguales para todas las clases, sólo queda el término que incluye a la media $\\mu$. Luego podemos tomar la función discriminante como:\n",
    "$$g_i(x) = -(x-\\mu)'\\Sigma^{-1}(x-\\mu) = \\sigma^{-2}  (x-\\mu)'(x-\\mu).$$\n",
    "Luego multiplicando por $\\sigma^2$ y calculando la raíz cuadrada resulta $$g_i(x) = -||x-\\mu||_2,$$ el opuesto de la distancia euclídea.\n",
    "Así, como el clasificador clasifica en la clase $i$ si $g_i(x)$ es máximo, esto es equivalente a que la distancia euclídea sea mínima.\n"
   ]
  },
  {
   "cell_type": "markdown",
   "metadata": {},
   "source": [
    " <span style=\"color:red\"> RESPONDA EL INCISO B AQUÍ </span>"
   ]
  },
  {
   "cell_type": "markdown",
   "metadata": {},
   "source": [
    "Recordemos que asumimos que las clases son equiprobables y tienen misma matriz de covarianzas, luego podemos hacer simplificaciones muy similares a las del inciso anterior:\n",
    "Vamos a tomar logaritmo pues al ser el logaritmo una funcion monotona creciente, obtenemos un discriminante equivalente.\n",
    "$$\\log g_i(x) = -\\frac k2 \\log(2\\pi) -\\frac {\\log(\\det(\\Sigma))}2 - \\frac 12(x-\\mu)'\\Sigma^{-1}(x-\\mu)+\\log P(\\omega_i).$$  \n",
    "De nuevo, vamos a simplificar los terminos que son iguales para todas las clases, osea $\\det(\\Sigma)$ y $\\cfrac k2$, quedandonos con:\n",
    "$$\n",
    "g_i{x} = -\\cfrac 12 (x-\\mu)' \\Sigma ^{-1}(x-\\mu) + \\log P(\\omega_{i})\n",
    "$$\n",
    "Como ademas las probabilidades a priori son iguales, tambien podemos ignorar $\\log P(\\omega_{i})$ quedandonos\n",
    "$$\n",
    "g_i{x} = -\\cfrac 12 (x-\\mu)' \\Sigma ^{-1}(x-\\mu)\n",
    "$$\n",
    "Que eso es el opuesto, multiplicado por $\\cfrac 12$ de la distancia de Mahalanobis. Luego, minimizando la distancia, maximizamos nuestra funcion discriminante"
   ]
  },
  {
   "cell_type": "markdown",
   "metadata": {},
   "source": [
    " <span style=\"color:red\"> RESPONDA EL INCISO C AQUÍ </span>"
   ]
  },
  {
   "cell_type": "markdown",
   "metadata": {},
   "source": [
    "Para clasificar este vector con la regla de desición bayesiana, por lo probado en el inciso b (clases con la misma matriz de varianza-covarianzas no diagonal e igualmente ditribuidas), esto es tan sencillo como calcular la distancia de Mahalanobis de $x$ a los vectores de media de cada clase, y asignamos a $x$ la clase a la cual tenga menor distancia:  "
   ]
  },
  {
   "cell_type": "code",
   "execution_count": 42,
   "metadata": {},
   "outputs": [],
   "source": [
    "from scipy.spatial.distance import mahalanobis\n",
    "from scipy.spatial.distance import euclidean\n",
    "mu1 = [0,0]\n",
    "mu2 = [3,3]\n",
    "x = [1,2.2]\n",
    "vcov = [[1.1,0.3],[0.3,1.9]]\n",
    "ivcov = np.linalg.inv(vcov)"
   ]
  },
  {
   "cell_type": "code",
   "execution_count": 39,
   "metadata": {},
   "outputs": [
    {
     "data": {
      "text/plain": [
       "1.7181385275931627"
      ]
     },
     "execution_count": 39,
     "metadata": {},
     "output_type": "execute_result"
    }
   ],
   "source": [
    "mahalanobis(mu1,x,ivcov)"
   ]
  },
  {
   "cell_type": "code",
   "execution_count": 37,
   "metadata": {},
   "outputs": [
    {
     "data": {
      "text/plain": [
       "1.9162463307205573"
      ]
     },
     "execution_count": 37,
     "metadata": {},
     "output_type": "execute_result"
    }
   ],
   "source": [
    "mahalanobis(mu2,x,ivcov)"
   ]
  },
  {
   "cell_type": "markdown",
   "metadata": {},
   "source": [
    "Clasificamos a $x = (1,2.2)$ como de la clase $\\omega_{2}$"
   ]
  },
  {
   "cell_type": "code",
   "execution_count": 40,
   "metadata": {},
   "outputs": [
    {
     "data": {
      "text/plain": [
       "2.4166091947189146"
      ]
     },
     "execution_count": 40,
     "metadata": {},
     "output_type": "execute_result"
    }
   ],
   "source": [
    "euclidean(mu1,x)"
   ]
  },
  {
   "cell_type": "code",
   "execution_count": 41,
   "metadata": {},
   "outputs": [
    {
     "data": {
      "text/plain": [
       "2.1540659228538015"
      ]
     },
     "execution_count": 41,
     "metadata": {},
     "output_type": "execute_result"
    }
   ],
   "source": [
    "euclidean(mu2,x)"
   ]
  },
  {
   "cell_type": "markdown",
   "metadata": {},
   "source": [
    "No, la clasificación no sería la misma, lo cual tiene sentido pues si usamos distancia Euclidea estamos asumiendo que las normales son independientes (covarianza 0), y no es el caso. Podria darse la casualidad de que la clasificación coincida pero estaríamos cometiendo un error al no contemplar toda la información."
   ]
  },
  {
   "cell_type": "markdown",
   "metadata": {},
   "source": [
    "<span style=\"color:red\"> ESTUDIAR ESTA RESPUESTA Y COMPLETAR!!!</span>\n",
    "\n",
    "d) La elipse con centro en $(0,0)$ y radio $r$ se corresponde a la ecuación \n",
    "$$\\frac{x^2}{a^2} + \\frac{y^2}{b^2} = r^2,$$\n",
    "donde $a$ y $b$ son las semilongitudes de los ejes de la elipse. \n",
    "\n",
    "### Cálculo de la elipse\n",
    "\n",
    "La distancia de Mahalanobis para una matriz $\\Sigma^{-1} = \\left(\\begin{array}{cc}u & v \\\\ v & w \\end{array}\\right)$ al punto $(0,0)$ resulta:\n",
    "$$d_M^2 ((x,y), (0,0)) = (x,y)' \\Sigma^{-1} (x,y) = u x^2 + 2 v xy + wy^2. \\qquad \\qquad (1)$$\n",
    "\n",
    "Queremos encontrar los ejes de la elipse dada por $d_M ((x,y), (0,0))= \\sqrt{2.952}$.\n",
    "Dado que si $v\\neq 0$ es porque se trata de una elipse rotada, analizamos la elipse canónica:\n",
    "$$\\frac{\\tilde x^2}{a^2} + \\frac{\\tilde y^2}{b^2} = r^2 = 2.952.$$\n",
    "Escribimos \n",
    "$$\\begin{cases}\n",
    "\\tilde x &= x \\cos \\theta - y \\sin\\theta \\\\\n",
    "\\tilde y &= x \\sin \\theta + y \\cos\\theta\n",
    "\\end{cases}\n",
    "= Q \\cdot \\left(\\begin{array}{c}x \\\\ y \\end{array}\\right), \\qquad \\mbox{es decir} \\qquad \\left(\\begin{array}{c}x \\\\ y \\end{array}\\right) = Q^T \\left(\\begin{array}{c}\\tilde x \\\\ \\tilde y \\end{array}\\right)\n",
    "$$\n",
    "donde $Q$ es la matriz de rotación.\n",
    "Reemplazando $\\tilde x$ y $\\tilde y$ en la ecuación de la elipse resulta:\n",
    "\\begin{eqnarray}\n",
    "\\frac 1{a^2} \\tilde x^2 &=& \\frac 1{a^2}\\left(x^2 \\cos^2 \\theta -2xy \\sin\\theta\\cos\\theta + y^2 \\sin^2 \\theta\\right)\\\\\n",
    "\\frac 1{b^2} \\tilde y^2 &=& \\frac 1{b^2}\\left(x^2 \\sin^2 \\theta +2xy \\sin\\theta\\cos\\theta + y^2 \\cos^2 \\theta\\right)\\\\\n",
    "\\mbox{sumamos} & &\\\\\n",
    "r^2 &= &x^2(\\frac 1{a^2} \\cos^2 \\theta + \\frac 1b\\sin^2 \\theta) + 2xy(\\frac 1{b^2}-\\frac 1{a^2})\\sin\\theta\\cos\\theta + y^2(\\frac 1{a^2}\\sin^2\\theta + \\frac 1{b^2}\\cos^2\\theta)\n",
    "\\end{eqnarray}\n",
    "\n",
    "De aquí resulta, volviendo a la fórmula (1):\n",
    "$$\n",
    "\\begin{cases}\n",
    "u &= \\frac 1{a^2} \\cos^2 \\theta + \\frac 1{b^2}\\sin^2 \\theta\\\\\n",
    "w &= \\frac 1{a^2}\\sin^2\\theta + \\frac 1{b^2}\\cos^2\\theta\\\\\n",
    "v &= (\\frac 1{b^2}-\\frac 1{a^2})\\sin\\theta\\cos\\theta\n",
    "\\end{cases}\n",
    "$$\n",
    "\n",
    "Operando con estas ecuaciones obtenemos:\n",
    "$$u+ w = \\frac{1}{a^2} + \\frac{1}{b^2}, \\qquad \n",
    "w-u = (\\frac{1}{b^2}-\\frac 1{a^2}) \\cos2\\theta, \\qquad \\qquad 2v = (\\frac{1}{b^2}-\\frac 1{a^2}) \\sin 2\\theta$$.\n",
    "\n",
    "Así los ejes principales de la elipse están en la dirección rotada por el ángulo $\\theta$ de $(1,0)$ y $(0,1)$ respectivamente.\n",
    "\n",
    "Luego $\\tan 2\\theta = \\frac {2v}{w-u}$, es decir $$\\theta = \\frac 12 \\tan^{-1} \\frac {2v}{w-u}.$$\n",
    "\n",
    "### Especificamos en el ejemplo\n",
    "\n",
    "$$\\Sigma^{-1} = \\left(\\begin{array}{cc}0.95 & -0.15 \\\\ -0.15 & 0.55 \\end{array}\\right).$$\n",
    "Así tenemos que \n",
    "$$\\tan 2\\theta = -\\frac{0.3}{-0.4} = 0.75, $$"
   ]
  },
  {
   "cell_type": "code",
   "execution_count": 126,
   "metadata": {},
   "outputs": [],
   "source": [
    "tg = -(0.3/(-0.4))\n",
    "theta = 0.5 * np.arctan(tg)"
   ]
  },
  {
   "cell_type": "code",
   "execution_count": 127,
   "metadata": {},
   "outputs": [
    {
     "data": {
      "text/plain": [
       "0.3217505543966422"
      ]
     },
     "execution_count": 127,
     "metadata": {},
     "output_type": "execute_result"
    }
   ],
   "source": [
    "theta"
   ]
  },
  {
   "cell_type": "markdown",
   "metadata": {},
   "source": [
    "<span style=\"color:red\">CODIFIQUE AQUÍ ESTOS VALORES </span>"
   ]
  },
  {
   "cell_type": "markdown",
   "metadata": {},
   "source": [
    "Tenemos $$\n",
    "\\begin{cases}\n",
    "\\frac 1{a^2} + \\frac 1{b^2} &= 0.95 + 0.55 = 1.5, \\\\\n",
    "\\frac{1}{b^2}- \\frac 1{a^2}  &= \\frac {-0.4}{0.949}\n",
    "\\end{cases}\n",
    "$$"
   ]
  },
  {
   "cell_type": "markdown",
   "metadata": {},
   "source": [
    "<span style=\"color:red\">CODIFIQUE AQUÍ ESTOS VALORES</span>"
   ]
  },
  {
   "cell_type": "code",
   "execution_count": null,
   "metadata": {},
   "outputs": [],
   "source": []
  },
  {
   "cell_type": "markdown",
   "metadata": {},
   "source": [
    "Luego la elipse no rotada es:\n",
    "$$\\frac {\\tilde x^2}{1^2} + \\frac{\\tilde y^2}{(\\sqrt 2)^2} = 2.952 = r^2.$$\n",
    "Las longitudes de los ejes son:\n",
    "$$ a_1 = \\sqrt{2.952}, \\qquad b_1 = \\sqrt{2 \\cdot 2.952}$$"
   ]
  },
  {
   "cell_type": "markdown",
   "metadata": {},
   "source": [
    "<span style=\"color:red\">CODIFIQUE AQUÍ LA ELIPSE Y HAGA UNA FUNCIÓN PARA USAR EN OTRA OCASIÓN</span>"
   ]
  },
  {
   "cell_type": "markdown",
   "metadata": {},
   "source": [
    "# Ejercicio 4. \n",
    "\n",
    "* (a) Describa un procedimiento para generar muestras aleatorias de acuerdo a una distribucion normal\n",
    "$\\mathcal{N}_d(\\mu,\\Sigma)$, y un código Python (puede usar algun paquete). \n",
    "\n",
    "\n",
    "* (b) Describa un procedimiento que calcule la funcion discriminante para una distribucion normal dada y probabilidad a priori $P(\\omega_i)$, y un código Python (puede usar algun paquete).\n",
    "\n",
    "\n",
    "* (c) Describa un procedimiento que calcule la distancia euclidea entre dos puntos arbitrarios.\n",
    "\n",
    "\n",
    "* (d)  Escriba un procedimiento que calcule la distancia de Mahalanobis entre la media $\\mu$ y un punto arbitrario $x$, dada la matriz de covarianza $\\Sigma$.\n",
    "\n",
    "Puede usar \n",
    "\n",
    "https://scikit-learn.org/stable/auto_examples/classification/plot_lda_qda.html#sphx-glr-auto-examples-classification-plot-lda-qda-py\n",
    "\n"
   ]
  },
  {
   "cell_type": "markdown",
   "metadata": {},
   "source": [
    "# *Respuesta*"
   ]
  },
  {
   "cell_type": "markdown",
   "metadata": {},
   "source": [
    "Con el paquete numpy y la función https://docs.scipy.org/doc/numpy-1.15.1/reference/generated/numpy.random.multivariate_normal.html podemos obtener muestras aleatorias con distribución normal.\n"
   ]
  },
  {
   "cell_type": "code",
   "execution_count": 47,
   "metadata": {},
   "outputs": [],
   "source": [
    "from numpy.random import multivariate_normal\n",
    "def muestra(media,vcov,n):\n",
    "    return np.random.multivariate_normal(mean, cov, n)"
   ]
  },
  {
   "cell_type": "markdown",
   "metadata": {},
   "source": [
    " <span style=\"color:red\"> RESPONDA EL INCISO B AQUÍ </span>"
   ]
  },
  {
   "cell_type": "markdown",
   "metadata": {},
   "source": [
    "Tenemos que la clasificación con tasa de error minimo puede  alcanzarse con la función de discriminación:\n",
    "$g_{i} = ln P(x|\\omega_{i})+ln P(\\omega_{i})$"
   ]
  },
  {
   "cell_type": "code",
   "execution_count": 31,
   "metadata": {},
   "outputs": [],
   "source": []
  },
  {
   "cell_type": "markdown",
   "metadata": {},
   "source": [
    " <span style=\"color:red\"> RESPONDA EL INCISO C AQUÍ </span>\n"
   ]
  },
  {
   "cell_type": "markdown",
   "metadata": {},
   "source": [
    "Para calcular la distancia Euclidea entre dos puntos arbitrarios, $x,y$, debemos calcular la raiz cuadrada de las diferencias al cuadrado coordenada a coordenada\n",
    "$$\n",
    "d_{e}(X,Y) = \\sqrt{\\sum_{i=0}^n (y_{i}-x_{i})^{2}}\n",
    "$$\n",
    "Podemos hacerlo fácilmente con la librería scipy"
   ]
  },
  {
   "cell_type": "code",
   "execution_count": 44,
   "metadata": {},
   "outputs": [],
   "source": [
    "from scipy.spatial.distance import euclidean\n",
    "def de(x,y):\n",
    "    return euclidean(x,y)"
   ]
  },
  {
   "cell_type": "markdown",
   "metadata": {},
   "source": [
    " <span style=\"color:red\"> RESPONDA EL INCISO D AQUÍ </span>"
   ]
  },
  {
   "cell_type": "markdown",
   "metadata": {},
   "source": [
    "Para calcular la distancia de mahalanobis, es un poco mas complicado. Dada la media $\\mu$ , un punto arbitrario $x$ y la matriz de varianza-covarianza $\\Sigma$, para calcular la distancia de mahalanobis lo que tenemos que hacer es primero calcular la inversa de $\\Sigma$,$\\Sigma^{-1}$ y la distancia de mahalanobis esta dada por:\n",
    "$$\n",
    "d_{m}(x,\\mu) = \\sqrt{ (x-\\mu)^{T}\\Sigma^{-1}(x-\\mu)}\n",
    "$$"
   ]
  },
  {
   "cell_type": "code",
   "execution_count": 45,
   "metadata": {},
   "outputs": [],
   "source": [
    "from scipy.spatial.distance import mahalanobis\n",
    "from numpy.linalg import inv\n",
    "def dm(x,mu,sigma):\n",
    "    isigma = inv(sigma)\n",
    "    return mahalanobis(x,mu,isigma)\n",
    "    "
   ]
  },
  {
   "cell_type": "markdown",
   "metadata": {},
   "source": [
    "# Ejercicio 5. \n",
    "\n"
   ]
  },
  {
   "cell_type": "markdown",
   "metadata": {},
   "source": [
    "* (a)  Utilice el codigo del problema anterior para simular dos normales $(X_1,X_2)$ con $\\Sigma= C^T.C$, y $C= \\left(\\begin{array}{cc}\n",
    "0&-0.23\\\\\n",
    " 0.83& .23\\end{array}\\right)$ y vectores de media $\\mu_1 =(0,0)$ y $\\mu_2=(1,1)$ respectivamente. \n",
    " \n",
    " \n",
    "* (b) Supongamos que las probabilidades a priori de las dos primeras categorias son iguales ($P(\\omega_1)=P(\\omega_2)=\\displaystyle\\frac12$, diseñe y codifique  un clasificador para  dos categorias normales utilizando solo el valor de caracteristica $X_1$ especificada en el inciso anteiror. El código resultante debe poder clasificar una nueva muestra basado en esta información. \n",
    "\n",
    "Recuerde que para el diseño del clasificador se estimará la media y varianza a partir de los datos de cada una de las muestras. Si para la muestra $i$ la media y varianza son $\\mu_i$ y $\\sigma_i^2$ respectivamente, se clasificará un valor $x$ en la muestra $1$ si \n",
    "$$\\frac 1{\\sqrt{2\\pi\\sigma_1^2}} e^{-(x-\\mu_1)^2/2\\sigma_1^2}P(\\omega_1) > \\frac 1{\\sqrt{2\\pi\\sigma_2^2}} e^{-(x-\\mu_2)^2/2\\sigma_2^2}P(\\omega_1).$$\n",
    "Tomando logaritmos, y eliminando las probabilidades a priori $P(\\omega_i)$ por ser iguales esto es equivalente a decidir por la clase 1 si \n",
    "$$-\\frac 12 \\ln(2\\pi) - \\ln \\sigma_1 - \\frac{(x-\\mu_1)^2}{2\\sigma_1^2} > \n",
    "-\\frac 12 \\ln(2\\pi) - \\ln \\sigma_2 - \\frac{(x-\\mu_2)^2}{2\\sigma_2^2}$$\n",
    "es decir, si \n",
    "$$ \\ln \\sigma_1 + \\frac{(x-\\mu_1)^2}{2\\sigma_1^2} <  \\ln \\sigma_2 + \\frac{(x-\\mu_2)^2}{2\\sigma_2^2}.$$\n",
    "\n",
    "\n",
    "\n",
    "* (c) Determinar el error de entrenamiento empirico en sus muestras, es decir, el porcentaje de puntos mal clasificados, dividiendo el conjunto de $n=100$ muestras aleatoriamente en 80\\% entrenamiento 20\\% test. Repita incrementando los valores de $n$, $100\\leq n\\leq 10000$ en pasos de 100 y grafique el error empirico obtenido.\n",
    "\n",
    "\n",
    "* (d) Utilice la cota de Bhattacharyya para acotar el error que obtendran los  patrones nuevos obtenidos muestreando las distribuciones.\n",
    "\n",
    "\n",
    "* (e) Repita todo lo anterior, pero ahora utilice dos caracteristicas, $X_1$ y $X_2$.\n",
    "\n",
    "\n",
    "* (f) Analice sus resultados. En particular, ¿es siempre posible para un conjunto finito de datos que  el error empirico pueda ser mayor al aumentar la dimension de los datos?."
   ]
  },
  {
   "cell_type": "markdown",
   "metadata": {},
   "source": [
    "# *Respuesta*"
   ]
  },
  {
   "cell_type": "markdown",
   "metadata": {},
   "source": [
    " <span style=\"color:red\"> RESPONDA EL INCISO A AQUÍ </span>  "
   ]
  },
  {
   "cell_type": "code",
   "execution_count": 52,
   "metadata": {},
   "outputs": [],
   "source": [
    "C = np.array([[0,-0.23],[0.83,0.23]])\n",
    "sigma = C.dot(C.transpose())"
   ]
  },
  {
   "cell_type": "code",
   "execution_count": 53,
   "metadata": {},
   "outputs": [
    {
     "data": {
      "text/plain": [
       "array([[ 0.0529, -0.0529],\n",
       "       [-0.0529,  0.7418]])"
      ]
     },
     "execution_count": 53,
     "metadata": {},
     "output_type": "execute_result"
    }
   ],
   "source": [
    "sigma"
   ]
  },
  {
   "cell_type": "markdown",
   "metadata": {},
   "source": [
    "Vemos que es simetrica respecto de la diagonal asi que está ok en principio"
   ]
  },
  {
   "cell_type": "code",
   "execution_count": 56,
   "metadata": {},
   "outputs": [],
   "source": [
    "MU1 = [0,0]\n",
    "MU2 = [1,1]\n",
    "X1 = muestra(MU1,sigma,100)\n",
    "X2 = muestra(MU2,sigma,100)"
   ]
  },
  {
   "cell_type": "markdown",
   "metadata": {},
   "source": [
    " <span style=\"color:red\"> RESPONDA EL INCISO B AQUÍ </span>"
   ]
  },
  {
   "cell_type": "markdown",
   "metadata": {},
   "source": [
    "No entendí muy bien a qué se refería con usar solamente X1, y creo que no entendi el ejercicio en general"
   ]
  },
  {
   "cell_type": "markdown",
   "metadata": {},
   "source": [
    " <span style=\"color:red\"> RESPONDA EL INCISO C AQUÍ </span>"
   ]
  },
  {
   "cell_type": "markdown",
   "metadata": {},
   "source": [
    " <span style=\"color:red\"> RESPONDA EL INCISO D AQUÍ </span>"
   ]
  },
  {
   "cell_type": "markdown",
   "metadata": {},
   "source": [
    " <span style=\"color:red\"> RESPONDA EL INCISO E AQUÍ </span>"
   ]
  },
  {
   "cell_type": "markdown",
   "metadata": {},
   "source": [
    " <span style=\"color:red\"> RESPONDA EL INCISO F AQUÍ </span>"
   ]
  },
  {
   "cell_type": "markdown",
   "metadata": {},
   "source": [
    "# Ejercicio 6. \n",
    "\n",
    "Considere el problema de clasificacion bidimensional en cuatro categorias con \n",
    "$x|\\omega_1\\sim \\mathcal{N}(\\mathbf{0},\\mathbf{I})$, $x |\\omega_2\\sim \\mathcal{N}\\left(\\left(\\begin{array}{c}\n",
    " 1\\\\\n",
    " 1\\end{array}\\right),\\mathbf{I}\\right)$, $x |\\omega_3\\sim \\mathcal{N}\\left(\\left(\\begin{array}{c}\n",
    " 1\\\\\n",
    " -3\\end{array}\\right),\\left(\\begin{array}{cc}\n",
    " 2&0.5\\\\\n",
    " 0.5&2\\end{array}\\right)\\right)$ y $x |\\omega_4\\sim \\mathcal{N}\\left(\\left(\\begin{array}{c}\n",
    " 1\\\\\n",
    " 2\\end{array}\\right),\\left(\\begin{array}{cc}\n",
    " 5&4\\\\\n",
    " 4&5\\end{array}\\right)\\right)$ y $P (\\omega_i)=\\displaystyle\\frac14$ para todo i.\n",
    " \n",
    " * (a) ¿Cual es la distancia de Mahalanobis entre cada uno de los puntos $(1, 2)^T, (5, 3)^T, (0, 0)^T,\n",
    " (1, 0)^T$ y las medias de cada una de las clases.\n",
    " \n",
    "\n",
    "* (b) Clasificar estos puntos.\n",
    "\n",
    "* (c) Suponga que $P(\\omega_1)=0.7$ y $P(\\omega_2)=P(\\omega_3)=P(\\omega_4)=0.1$, y clasifique nuevamente los puntos."
   ]
  },
  {
   "cell_type": "markdown",
   "metadata": {},
   "source": [
    "\n",
    "Recuerde que como las clases son equiprobables, para clasificar los puntos se busca el máximo de los $g_i(x)$, con \n",
    "$$g_i(x) = -\\ln(\\det(\\Sigma_i)) -  (x-\\mu_i)'\\Sigma_i^{-1}(x-\\mu_i).$$\n"
   ]
  },
  {
   "cell_type": "markdown",
   "metadata": {},
   "source": [
    "# *Respuesta*"
   ]
  },
  {
   "cell_type": "markdown",
   "metadata": {},
   "source": [
    " <span style=\"color:red\"> RESPONDA EL INCISO A AQUÍ </span>  "
   ]
  },
  {
   "cell_type": "code",
   "execution_count": 62,
   "metadata": {},
   "outputs": [],
   "source": [
    "mu1 = [0,0]\n",
    "vcov1 = np.identity(2)\n",
    "mu2 = [1,1]\n",
    "vcov2 = np.identity(2)\n",
    "mu3 = [1,-3]\n",
    "vcov3= np.array([[2,0.5],[0.5,2]])\n",
    "mu4 = [1,2]\n",
    "vcov4 = np.array([[5,4],[4,5]])\n",
    "mus = [mu1,mu2,mu3,mu4]\n",
    "vcovs = [vcov1,vcov2,vcov3,vcov4]\n",
    "x1 = [1,2]\n",
    "x2 = [5,3]\n",
    "x3 = [0,0]\n",
    "x4 = [1,0]"
   ]
  },
  {
   "cell_type": "code",
   "execution_count": 70,
   "metadata": {},
   "outputs": [
    {
     "data": {
      "text/plain": [
       "[2.23606797749979, 1.0, 3.651483716701107, 0.0]"
      ]
     },
     "execution_count": 70,
     "metadata": {},
     "output_type": "execute_result"
    }
   ],
   "source": [
    "x1md = [dm(x1,mu,vcov) for mu,vcov in zip(mus,vcovs)]\n",
    "x1md"
   ]
  },
  {
   "cell_type": "code",
   "execution_count": 71,
   "metadata": {},
   "outputs": [
    {
     "data": {
      "text/plain": [
       "[5.830951894845301, 4.47213595499958, 4.618802153517006, 2.4267032964268394]"
      ]
     },
     "execution_count": 71,
     "metadata": {},
     "output_type": "execute_result"
    }
   ],
   "source": [
    "x2md = [dm(x2,mu,vcov) for mu,vcov in zip(mus,vcovs)]\n",
    "x2md"
   ]
  },
  {
   "cell_type": "code",
   "execution_count": 72,
   "metadata": {},
   "outputs": [
    {
     "data": {
      "text/plain": [
       "[0.0, 1.4142135623730951, 2.4765567494675613, 1.0]"
      ]
     },
     "execution_count": 72,
     "metadata": {},
     "output_type": "execute_result"
    }
   ],
   "source": [
    "x3md = [dm(x3,mu,vcov) for mu,vcov in zip(mus,vcovs)]\n",
    "x3md"
   ]
  },
  {
   "cell_type": "code",
   "execution_count": 73,
   "metadata": {},
   "outputs": [
    {
     "data": {
      "text/plain": [
       "[1.0, 1.0, 2.1908902300206647, 1.4907119849998598]"
      ]
     },
     "execution_count": 73,
     "metadata": {},
     "output_type": "execute_result"
    }
   ],
   "source": [
    "x4md = [dm(x4,mu,vcov) for mu,vcov in zip(mus,vcovs)]\n",
    "x4md"
   ]
  },
  {
   "cell_type": "markdown",
   "metadata": {},
   "source": [
    " <span style=\"color:red\"> RESPONDA EL INCISO B AQUÍ </span>  "
   ]
  },
  {
   "cell_type": "markdown",
   "metadata": {},
   "source": [
    "Ahora para saber los discriminantes, necesitamos saber los determinantes de cada una de las matrices de varianza-covarianza. Vamos a calcular esos determinantes y tomar la clase $i$ que tenga $g_{i}$ maximo en cada x. Como ya tenemos las distancias de mahalanobis a cada punto, solamente resta multiplicar cada uno de esos numeros por el determinante de la matriz de varianza/covarianza de cada $\\omega_{i}$ respectivamente"
   ]
  },
  {
   "cell_type": "code",
   "execution_count": 83,
   "metadata": {},
   "outputs": [],
   "source": [
    "dets = [np.linalg.det(vcov) for vcov in vcovs]\n",
    "g_i_x1 = [-np.log(det)-md for md,det in zip(x1md,dets)]\n",
    "g_i_x2 = [-np.log(det)-md for md,det in zip(x2md,dets)]\n",
    "g_i_x3 = [-np.log(det)-md for md,det in zip(x3md,dets)]\n",
    "g_i_x4 = [-np.log(det)-md for md,det in zip(x4md,dets)]"
   ]
  },
  {
   "cell_type": "code",
   "execution_count": 88,
   "metadata": {},
   "outputs": [
    {
     "data": {
      "text/plain": [
       "[-2.23606797749979, -1.0, -4.973239556683426, -2.197224577336219]"
      ]
     },
     "execution_count": 88,
     "metadata": {},
     "output_type": "execute_result"
    }
   ],
   "source": [
    "g_i_x1"
   ]
  },
  {
   "cell_type": "code",
   "execution_count": 89,
   "metadata": {},
   "outputs": [
    {
     "data": {
      "text/plain": [
       "[-5.830951894845301,\n",
       " -4.47213595499958,\n",
       " -5.940557993499326,\n",
       " -4.6239278737630585]"
      ]
     },
     "execution_count": 89,
     "metadata": {},
     "output_type": "execute_result"
    }
   ],
   "source": [
    "g_i_x2"
   ]
  },
  {
   "cell_type": "code",
   "execution_count": 90,
   "metadata": {},
   "outputs": [
    {
     "data": {
      "text/plain": [
       "[-0.0, -1.4142135623730951, -3.7983125894498806, -3.197224577336219]"
      ]
     },
     "execution_count": 90,
     "metadata": {},
     "output_type": "execute_result"
    }
   ],
   "source": [
    "g_i_x3"
   ]
  },
  {
   "cell_type": "code",
   "execution_count": 91,
   "metadata": {},
   "outputs": [
    {
     "data": {
      "text/plain": [
       "[-1.0, -1.0, -3.512646070002984, -3.6879365623360787]"
      ]
     },
     "execution_count": 91,
     "metadata": {},
     "output_type": "execute_result"
    }
   ],
   "source": [
    "g_i_x4"
   ]
  },
  {
   "cell_type": "markdown",
   "metadata": {},
   "source": [
    "Las clases son como se sigue:\n",
    "- x1: $\\omega_{2}$\n",
    "- x2: $\\omega_{2}$\n",
    "- x3: $\\omega_{1}$\n",
    "- x4: $\\omega_{1},\\omega_{2}$ ambas son igual de buenas/malas\n",
    "\n",
    "    "
   ]
  },
  {
   "cell_type": "markdown",
   "metadata": {},
   "source": [
    " <span style=\"color:red\"> RESPONDA EL INCISO C AQUÍ </span>  \n",
    "Para esta situación se tienen en cuenta además los pesos de cada clase. Luego se clasifica en la clase $i$ que maximiza $g_i$, con:\n",
    "$$g_i(x) = -\\frac 12 \\ln(\\Sigma_i) -\\frac 12 dM(x,\\mu_i) + \\ln P(\\omega_i).$$\n"
   ]
  },
  {
   "cell_type": "markdown",
   "metadata": {},
   "source": [
    "Ahora como ya tenemos calculada toda la primera parte en los respectivos arreglos, solamente debemos sumar los pesos."
   ]
  },
  {
   "cell_type": "code",
   "execution_count": 118,
   "metadata": {},
   "outputs": [],
   "source": [
    "w = [0.7,0.1,0.1,0.1]\n",
    "clasex1 = np.argmax([gi + np.log(pwi) for gi,pwi in zip(g_i_x1,w)])\n",
    "clasex2 = np.argmax([gi + np.log(pwi) for gi,pwi in zip(g_i_x2,w)])\n",
    "clasex3 = np.argmax([gi + np.log(pwi) for gi,pwi in zip(g_i_x3,w)])\n",
    "clasex4 = np.argmax([gi + np.log(pwi) for gi,pwi in zip(g_i_x4,w)])"
   ]
  },
  {
   "cell_type": "code",
   "execution_count": 120,
   "metadata": {},
   "outputs": [
    {
     "name": "stdout",
     "output_type": "stream",
     "text": [
      "Las clases son: \n",
      " x1 = 0 \n",
      " x2 = 0 \n",
      " x3 = 0 \n",
      " x4 = 0\n"
     ]
    }
   ],
   "source": [
    "print(\"Las clases son: \\n x1 = {} \\n x2 = {} \\n x3 = {} \\n x4 = {}\".format(clasex1,clasex2,clasex3,clasex4))\n"
   ]
  },
  {
   "cell_type": "code",
   "execution_count": 124,
   "metadata": {},
   "outputs": [
    {
     "data": {
      "text/plain": [
       "-2.3025850929940455"
      ]
     },
     "execution_count": 124,
     "metadata": {},
     "output_type": "execute_result"
    }
   ],
   "source": [
    "np.log(0.1)"
   ]
  },
  {
   "cell_type": "markdown",
   "metadata": {},
   "source": [
    "Lo cual tiene bastante sentido pues ln(0.1) es un numero que resta bante en el calculo de las g_i, y esta bien que así sea pues las clases que no son 1 tienen muy baja probabilidad de ocurrencia"
   ]
  },
  {
   "cell_type": "markdown",
   "metadata": {},
   "source": [
    "# Ejercicio 7. \n",
    "Suponiendo que $\\lambda_{21}>\\lambda_{11}$ y $\\lambda_{12}>\\lambda_{22}$, \n",
    "\n",
    "* a) mostrar que la funcion discriminante de riesgo minimo general para el caso binario independiente  esta\n",
    "dado por $$g(x)=w^Tx+\\omega_0$$, donde $w$ es constante, y\n",
    "$$\\omega_0=\\displaystyle\\sum_{i=1}^d\\ln\\displaystyle\\frac{1-p_i}{1-q_i}+\\ln\\displaystyle\\frac{P(\\omega_1)}{P(\\omega_2)}+\\ln\\displaystyle\\frac{\\lambda_{21}-\\lambda_{11}}{\\lambda_{12}-\\lambda_{22}}$$\n",
    "\n",
    "* b) Codifique esta función discriminante, diga qué valores debe tener de entrada para clasificar un nuevo dato. \n",
    "\n",
    "* c) Simule una muestra aleatoria de tamaño 100 de distribución binaria con probabilidades $p_i=0.3$ y $q_i=0.8$, y considere igual probabilidades a priori y pérdida cero uno. Clasifique esa muestra con la función anterior."
   ]
  },
  {
   "cell_type": "markdown",
   "metadata": {},
   "source": [
    " # *Respuesta*   <font color = 'RED'> estudiar esta respuesta </font>"
   ]
  },
  {
   "cell_type": "markdown",
   "metadata": {},
   "source": [
    "\n",
    " \n",
    " Tenemos que la función discriminante para cada clase está dada por:\n",
    "$$g_1(x) = - R(\\alpha_1|x) = -(\\lambda_{11}P(\\omega_1|x) + \\lambda_{12}P(\\omega_2|x))$$\n",
    "$$g_2(x) = - R(\\alpha_2|x) = -(\\lambda_{21}P(\\omega_1|x) + \\lambda_{22}P(\\omega_2|x))$$\n",
    "\n",
    "\n",
    "Dado que son dos clases, se puede considerar el discriminante $g(x) = g_1(x)-g_2(x)$ y clasificar en la clase $1$ si $g(x)>0$. Observamos entonces que:\n",
    "\n",
    "$$\n",
    "\\begin{eqnarray}\n",
    "g(x) &=& P(\\omega_1|x)\\cdot(\\lambda_{21}-\\lambda_{11}) + P(\\omega_2|x)\\cdot(\\lambda_{22}-\\lambda_{12}) \\\\\n",
    "     &=& \\frac{p(x | \\omega_1) P(\\omega_1)}{p(x)} \\cdot(\\lambda_{21}-\\lambda_{11}) + \\frac{p(x | \\omega_2)P(\\omega_2)}{p(x)}\\cdot(\\lambda_{22}-\\lambda_{12}) \\\\\n",
    "     &=& \\frac{p(x | \\omega_1) P(\\omega_1)}{p(x)} \\cdot(\\lambda_{21}-\\lambda_{11}) - \\frac{p(x | \\omega_2)P(\\omega_2)}{p(x)}\\cdot(\\lambda_{12}-\\lambda_{22}) \n",
    "\\end{eqnarray}\n",
    "$$ \n",
    "\n",
    "Así se clasifica en la clase 1 si $g(x)>0$, o lo que es lo mismo, si \n",
    "$$\\frac{p(x | \\omega_1) P(\\omega_1)\\cdot(\\lambda_{21}-\\lambda_{11}) } {p(x | \\omega_2)P(\\omega_2)\\cdot(\\lambda_{12}-\\lambda_{22}) } > 1 \\qquad (*)$$\n",
    "\n",
    "Tomando logaritmos, $(*)$ es equivalente a:\n",
    "$$\\ln\\frac{p(x | \\omega_1) }{p(x|\\omega_2} + \\ln \\frac{P(\\omega_1)}{P(\\omega_2)} + \\ln\\frac{\n",
    "\\lambda_{21}-\\lambda_{11}}{\\lambda_{22}-\\lambda_{12}}> 0. \\qquad (**)$$\n",
    "\n",
    "### <font color = green> Caso de variables binarias independientes </font>\n",
    "\n",
    "Si se trata de variables binarias, independientes, entonces tenemos\n",
    "$$x = (x_1,x_2,\\dots, x_d),\\qquad x_i = 0, 1,$$\n",
    "y \n",
    "$$p(x_i=1 | \\omega_j) = \\begin{cases} p_i & \\omega_j = \\omega_1 \\\\ q_i & \\omega_j = \\omega_2\n",
    "\\end{cases}$$\n",
    "\n",
    "Podemos escribir también:\n",
    "$$p(x_i | \\omega_j) = \\begin{cases} p_i^{x_i}(1-p_i)^{1-x_i} & \\omega_j = \\omega_1 \\\\\n",
    "q_i^{x_i}(1-q_i)^{1-x_i} & \\omega_j = \\omega_2\n",
    "\\end{cases}\n",
    "$$\n",
    "Como son independientes, entonces $p((x_1x_2\\dots x_d)|\\omega_j) = p(x_1|\\omega_j)p(x_2|\\omega_j)\\dots p(x_d|\\omega_j)$, para $j=1,2$.\n",
    "\n",
    "Ahora en la fórmula de $g(x)$ podemos eliminar el factor común $p(x)$ y tomar logaritmos. Así resulta que $(**)$ es equivalente a:\n",
    "\n",
    "$$ \\sum_{i=1}^d x_i \\ln\\frac{p_i}{q_i} + \\sum_{i=1}^d (1-x_i) \\ln\\frac{1-p_i}{1-q_i} + \\ln \\frac{P(\\omega_1)}{P(\\omega_2)} + \\ln\\frac{\n",
    "\\lambda_{21}-\\lambda_{11}}{\\lambda_{22}-\\lambda_{12}}> 0.$$\n",
    "Agrupando los $x_i$ resulta:\n",
    "$$\\underbrace{\\sum_i  \\left(\\ln\\frac{p_i}{q_i}-\\ln\\frac{1-p_i}{1-q_i}\\right)\\cdot x_i }_{w^T\\cdot x}+ \\underbrace{\\sum_{i=1}^d \\ln\\frac{1-p_i}{1-q_i} + \\ln \\frac{P(\\omega_1)}{P(\\omega_2)} + \\ln\\frac{\n",
    "\\lambda_{21}-\\lambda_{11}}{\\lambda_{22}-\\lambda_{12}}}_{w_0}> 0.$$"
   ]
  },
  {
   "cell_type": "markdown",
   "metadata": {},
   "source": [
    " <span style=\"color:red\"> RESPONDA EL INCISO B AQUÍ </span>  "
   ]
  },
  {
   "cell_type": "markdown",
   "metadata": {},
   "source": [
    " <span style=\"color:red\"> RESPONDA EL INCISO C AQUÍ </span>  "
   ]
  },
  {
   "cell_type": "markdown",
   "metadata": {},
   "source": [
    "# Ejercicio 8. \n",
    "\n",
    "La distribucion de Poisson para una variable discreta $x = 0, 1, 2,\\ldots$ y parametro real $\\lambda$ es\n",
    "$$P(x|\\lambda)=e^{-\\lambda}\\displaystyle\\frac{\\lambda^x}{x\\!}$$\n",
    "\n",
    "Considere el problema de clasificacion en dos categorias igualmente probables con distribuciones de Poisson, pero con diferentes parametros $\\lambda_1>\\lambda_2$.\n",
    "\n",
    " * (a) ¿Cual es la regla de clasificacion de Bayes?\n",
    " \n",
    " * (b) ¿Cual es la tasa del error de Bayes?\n",
    " \n",
    "* (c) Codifique esta función discriminante, diga qué valores debe tener de entrada para clasificar un nuevo dato. \n",
    "\n",
    "* (d) Simule una muestra aleatoria de tamaño 100 de distribución de Poisson con $\\lambda_1=1.8$, $\\lambda_2=0.4$, y considere igual probabilidades a priori y pérdida cero uno. Clasifique esa muestra con la función anterior. Estime el Error cometido, y compárelo con el error de Bayes calculado. \n",
    "\n"
   ]
  },
  {
   "cell_type": "markdown",
   "metadata": {},
   "source": [
    "# *Respuesta*"
   ]
  },
  {
   "cell_type": "markdown",
   "metadata": {},
   "source": [
    " <span style=\"color:red\"> RESPONDA EL INCISO A AQUÍ </span>  "
   ]
  },
  {
   "cell_type": "markdown",
   "metadata": {},
   "source": [
    " <span style=\"color:red\"> RESPONDA EL INCISO A AQUÍ </span>  "
   ]
  },
  {
   "cell_type": "markdown",
   "metadata": {},
   "source": [
    " <span style=\"color:red\"> RESPONDA EL INCISO B AQUÍ </span>  "
   ]
  },
  {
   "cell_type": "markdown",
   "metadata": {},
   "source": [
    " <span style=\"color:red\"> RESPONDA EL INCISO C AQUÍ </span>  "
   ]
  },
  {
   "cell_type": "markdown",
   "metadata": {},
   "source": [
    " <span style=\"color:red\"> RESPONDA EL INCISO D AQUÍ </span>  "
   ]
  },
  {
   "cell_type": "markdown",
   "metadata": {},
   "source": [
    "<br>\n",
    "<br>"
   ]
  }
 ],
 "metadata": {
  "anaconda-cloud": {},
  "kernelspec": {
   "display_name": "Python 3",
   "language": "python",
   "name": "python3"
  },
  "language_info": {
   "codemirror_mode": {
    "name": "ipython",
    "version": 3
   },
   "file_extension": ".py",
   "mimetype": "text/x-python",
   "name": "python",
   "nbconvert_exporter": "python",
   "pygments_lexer": "ipython3",
   "version": "3.7.6"
  }
 },
 "nbformat": 4,
 "nbformat_minor": 4
}
