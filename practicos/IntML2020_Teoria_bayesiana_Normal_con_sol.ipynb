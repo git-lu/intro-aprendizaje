{
 "cells": [
  {
   "cell_type": "markdown",
   "metadata": {},
   "source": [
    "<center>\n",
    "<img src=\"../images/ods_stickers.jpg\" />\n",
    "    \n",
    "# Introducción al Machine Learning 2020\n",
    "\n",
    "Basado en material de Pattern Classsification Duda, Hart, Stork. Traducido y editado al español por [Ana Georgina Flesia](https://www.linkedin.com/in/georginaflesia/). Este material esta sujeto a los términos y condiciones de la licencia  [Creative Commons CC BY-NC-SA 4.0](https://creativecommons.org/licenses/by-nc-sa/4.0/). Se permite el uso irrestricto para todo propósito no comercial."
   ]
  },
  {
   "cell_type": "markdown",
   "metadata": {},
   "source": [
    "# IntML2020 - Teoría Bayesiana - Distribuciones Normales Bivariadas"
   ]
  },
  {
   "cell_type": "markdown",
   "metadata": {},
   "source": [
    "Puede ayudarse con la siguientes paginas \n",
    "\n",
    "https://scikit-learn.org/stable/auto_examples/classification/plot_lda_qda.html#sphx-glr-auto-examples-classification-plot-lda-qda-py\n"
   ]
  },
  {
   "cell_type": "code",
   "execution_count": 5,
   "metadata": {},
   "outputs": [],
   "source": [
    "import matplotlib.pyplot as plt\n",
    "import numpy as np\n",
    "from scipy.stats import norm, multivariate_normal \n",
    "from numpy.linalg import inv, det\n",
    "from random import random\n",
    "import seaborn as sns"
   ]
  },
  {
   "cell_type": "markdown",
   "metadata": {},
   "source": [
    "# Ejercicio 1\n",
    "En muchos problemas de clasificacion de patrones se tiene la opcion de asignar un\n",
    " patron a una de $c$ clases, o de rechazarlo como irreconocible. Si el costo de\n",
    " hacer esto ultimo no es demasiado alto, puede ser una accion deseable. Sea\n",
    "\n",
    "  $$\\lambda(\\alpha_i|\\omega_j)=\\left\\{\\begin{array}{ccc}\n",
    " 0& \\ &\\mbox{ si }i=j, \\ i,j=1,2,\\ldots,c\\\\\n",
    " \\lambda_r&&\\mbox{ si }i=c+1\\\\\n",
    " \\lambda_s&&\\mbox{ en otro caso}\\\\\n",
    "\\end{array}\\right.$$\n",
    "\n",
    " donde $\\lambda_r$ es la pérdida sufrida por la eleccion de rechazarlo, y $\\lambda_s$ es la\n",
    " pérdida incurrida por cometer un error. Mostrar que el riesgo mínimo se obtiene\n",
    " si decidimos $\\omega_i$ si $P(\\omega_i|x)\\geq P (\\omega_j|x)$ para todo $j$, y si $P(\\omega_i|x)\\geq 1-\\frac{\\lambda_r}{\\lambda_s}$, caso contrario, rechazar. ¿Que sucede si $\\lambda_r= 0$? ¿Que sucede si $\\lambda_r>\\lambda_s$?.\n",
    " \n"
   ]
  },
  {
   "cell_type": "markdown",
   "metadata": {},
   "source": [
    " # *Respuesta*   <font color = 'RED'> estudiar esta respuesta </font>"
   ]
  },
  {
   "cell_type": "markdown",
   "metadata": {},
   "source": [
    "Tenemos que el riesgo total se minimiza si minimizamos cada $R(\\alpha_i|x)$. El valor de $R(\\alpha_i | x)$ para $1 \\le i \\le c$ está dado por: \n",
    "$$R(\\alpha_i | x) = \\sum_{j=1}^c \\lambda(\\alpha_i | \\omega_j) P(\\omega_j|x) = \\sum_{j=1, j\\neq i}^c \\lambda_s P(\\omega_j|x) = \\lambda_s (1-P(\\omega_i | x)),$$\n",
    "y $$R(\\alpha_{c+1} | x) = \\sum_{j=1} \\lambda(\\alpha_{c+1} | \\omega_j) P(\\omega_j|x) = \\lambda_r \\sum_{j=1}^c P(\\omega_j|x) =  \\lambda_r.$$\n",
    "Para $i\\le c$, el riesgo se minimiza si $P(\\alpha_i|x)$ es máximo en el conjunto de los $P(\\alpha_j|x)$, ya que $\\lambda(\\alpha_i|\\omega_i) = 0$. Ahora, $R(\\alpha_i |x)\\le R(\\alpha_{c+1}|x)$ si y sólo si \n",
    "$$\\lambda_s (1-P(\\alpha_i|x)) \\le \\lambda_r \\qquad \\mbox{si y sólo si} \\qquad 1-P(\\alpha_i|x) \\le \\frac{\\lambda_r}{\\lambda_s}\\qquad \\mbox {si y sólo si} \\qquad P(\\alpha_i|x) \\ge 1-\\frac{\\lambda_r}{\\lambda_s}$$\n",
    "\n",
    "Si $\\lambda_r = 0$, entonces por lo que acabamos de ver el riesgo total se minimiza si se rechaza en todos los casos.\n",
    "\n",
    "Si $\\lambda_r>\\lambda_s$, entonces en ningún caso conviene rechazar puesto que $1-\\frac{\\lambda_r}{\\lambda_s} < 0$.\n"
   ]
  },
  {
   "cell_type": "markdown",
   "metadata": {},
   "source": [
    "# Ejercicio 2.\n",
    "Considere el problema de clasificacion con la opcion de rechazo como irreconocible.\n",
    "\n",
    "* (a)  Utilice los resultados del ejercicio anterior para demostrar que las siguientes funciones discriminantes son optimas para este tipo de problemas:\n",
    "\n",
    "$$g_i(x)=\\left\\{\\begin{array}{ccc}\n",
    " p(x|\\omega_i)P(\\omega_i)& \\ &\\mbox{ si }i=1,2,\\ldots,c\\\\\n",
    " \\displaystyle\\frac{\\lambda_s-\\lambda_r}{\\lambda_s}\\displaystyle\\sum_{j=1}^cp(x|\\omega_j)P(\\omega_j)&&\\mbox{ si }i=c+1\\\\\n",
    "\\end{array}\\right.$$\n",
    "\n",
    "* (b) Grafique esta funcion discriminante y las regiones de decision para el caso del problema unidimensional con dos clases, teniendo\n",
    "\n",
    "    * $x|\\omega_1\\sim \\mathcal{N}(1, 1)$,\n",
    "    *  $x|\\omega_2\\sim \\mathcal{N}(-1,1)$,\n",
    "    * $P(\\omega_1) =P(\\omega_2)=\\displaystyle\\frac12$, y\n",
    "    * $\\displaystyle\\frac{\\lambda_r}{\\lambda_s}=\\displaystyle\\frac14$\n",
    "\n",
    "* (c) Describa cualitativamente lo que sucede cuando $\\displaystyle\\frac{\\lambda_r}{\\lambda_s}$ se incrementa de $0$ a $1$.\n",
    "* (d) Repita el procedimiento para el caso\n",
    "\n",
    "    * $x|\\omega_1\\sim \\mathcal{N}(1, 1)$,\n",
    "    * $x|\\omega_2\\sim \\mathcal{N}\\left(0,\\displaystyle\\frac14\\right)$,\n",
    "    * $P(\\omega_1)=\\displaystyle\\frac13$, $P(\\omega_2)=\\displaystyle\\frac23$, y\n",
    "    * $\\displaystyle\\frac{\\lambda_r}{\\lambda_s}=\\displaystyle\\frac12$\n",
    "\n"
   ]
  },
  {
   "cell_type": "markdown",
   "metadata": {},
   "source": [
    " # *Respuesta*   <font color = 'RED'> estudiar esta respuesta </font>"
   ]
  },
  {
   "cell_type": "markdown",
   "metadata": {},
   "source": [
    "\n",
    "\n",
    "* (a) Según esta función discriminante, dada la característica $x$ se elige la clase $\\omega_i$ si \n",
    "\n",
    "$$\n",
    "p(x|\\omega_i)P(\\omega_i) \\ge p(x|\\omega_j)P(\\omega_j)  \\qquad (1)\n",
    "$$ \n",
    "\n",
    "para $j\\neq i$ y además no se la rechaza, es decir:\n",
    "\n",
    "$$\\lambda_s p(x|\\omega_i)P(\\omega_i) \\ge (\\lambda_s-\\lambda_r)\\displaystyle\\sum_{j=1}^cp(x|\\omega_j)P(\\omega_j)\\qquad (2).$$\n",
    "\n",
    "\n",
    "Dividiendo por $p(x)$ (asumiendo que no es $0$, y si no también es cierto), tenemos que (1) equivale a \n",
    "\n",
    "$$P(\\omega_i | x) \\ge P(\\omega_j|x), \\qquad i \\neq j, \\qquad (3).$$\n",
    "\n",
    "\n",
    "Simplificando en (2) en ambos miembros de la desigualdad el término \n",
    "$\\lambda_s p(x|\\omega_i)P(\\omega_i)$ y observando que la sumatoria $\\sum_{j=1}^c p(x|\\omega_j)P(\\omega_j) = p(x)$, tenemos que la función no rechaza la clase $\\omega_i$ si \n",
    "\n",
    "$$\\lambda_s \\sum_{j\\neq i} p(x|\\omega_j)P(\\omega_j) = \\lambda_s (p(x)-p(x |\\omega_i)P(\\omega_i)) \\ge \\lambda_r p(x). \\qquad (4)$$\n",
    "\n",
    "\n",
    "Dividiendo por $p(x)$  y observando que $p(x |\\omega_j)P(\\omega_j) = P(\\omega_j|x)p(x)$ concluimos de (3) y (4) que $g_i(x)$ clasifica en $\\omega_i$ si\n",
    "\n",
    "\n",
    "$$P(\\omega_i|x) \\ge P(\\omega_j|x), \\quad \\mbox{para }{j \\neq i} \\quad \\mbox{ y } \\quad\n",
    "P(\\omega_i|x)) \\le 1-\\frac{\\lambda_r}{\\lambda_s}.$$\n",
    "\n",
    "\n",
    "Luego esta función discriminante produce la elección de la clase $\\omega_i$ que produce el riesgo mínimo, según lo probado en el Ejercicio 1."
   ]
  },
  {
   "cell_type": "markdown",
   "metadata": {},
   "source": [
    " <span style=\"color:red\"> RESPONDA EL INCISO B AQUÍ </span>"
   ]
  },
  {
   "cell_type": "markdown",
   "metadata": {},
   "source": [
    "Tenemos que para este caso particular, \n",
    "$$g_i(x)=\\left\\{\\begin{array}{ccc}\n",
    " p(x|\\omega_1)P(\\omega_1)& \\ &\\mbox{ si }i=1\\\\\n",
    " p(x|\\omega_2)P(\\omega_2)& \\ &\\mbox{ si }i=2\\\\\n",
    " \\displaystyle (1-\\frac{\\lambda_r}{\\lambda_s})\\displaystyle (p(x|\\omega_1)P(\\omega_1)+p(x|\\omega_2)P(\\omega_2))&&\\mbox{ si }rechazo\\\\\n",
    "\\end{array}\\right.$$\n"
   ]
  },
  {
   "cell_type": "code",
   "execution_count": 2,
   "metadata": {},
   "outputs": [
    {
     "data": {
      "text/plain": [
       "<matplotlib.legend.Legend at 0x7fc63ab717d0>"
      ]
     },
     "execution_count": 2,
     "metadata": {},
     "output_type": "execute_result"
    },
    {
     "data": {
      "image/png": "[encoded data removed]",
      "text/plain": [
       "<Figure size 432x288 with 1 Axes>"
      ]
     },
     "metadata": {
      "needs_background": "light"
     },
     "output_type": "display_data"
    }
   ],
   "source": [
    "x = np.linspace(-4,4,100)\n",
    "g1 = (1/2) * norm.pdf(x,1,1)\n",
    "g2 = (1/2) * norm.pdf(x,-1,1)\n",
    "g3 = (1-(1/4)) * (g1 + g2)\n",
    "fig,ax = plt.subplots()\n",
    "plt.plot(x,g1,label= 'Clase 1')\n",
    "plt.plot(x,g2,label= 'Clase 2')\n",
    "plt.plot(x,g3,label= 'Rechazo')\n",
    "plt.legend(loc='best')"
   ]
  },
  {
   "cell_type": "code",
   "execution_count": 3,
   "metadata": {},
   "outputs": [
    {
     "data": {
      "text/plain": [
       "<matplotlib.legend.Legend at 0x7fc63aaf3b10>"
      ]
     },
     "execution_count": 3,
     "metadata": {},
     "output_type": "execute_result"
    },
    {
     "data": {
      "image/png": "[encoded data removed]",
      "text/plain": [
       "<Figure size 432x288 with 1 Axes>"
      ]
     },
     "metadata": {
      "needs_background": "light"
     },
     "output_type": "display_data"
    }
   ],
   "source": [
    "\n",
    "plt.fill_between(x,0,g1,where = (g1 >= g2) & (g1 >= g3),label='Clase 1')\n",
    "plt.fill_between(x,0,g2,where = (g2 >= g1) & (g2 >= g3),label='Clase 2')\n",
    "plt.fill_between(x,0,g3,where = (g3 >= g2) & (g3 >= g1),label='Rechazo')\n",
    "plt.legend(loc='best')"
   ]
  },
  {
   "cell_type": "markdown",
   "metadata": {},
   "source": [
    " <span style=\"color:red\"> RESPONDA EL INCISO C AQUÍ </span>"
   ]
  },
  {
   "cell_type": "markdown",
   "metadata": {},
   "source": [
    "A medida que aumentamos $\\displaystyle\\frac{\\lambda_r}{\\lambda_s}$ hacia 1, lo que sucede es que el coste de rechazar aumenta, entonces $P(x|\\omega_{i}*P(\\omega_{i})) = P(\\omega_{1}|x) \\ge 1 - \\displaystyle\\frac{\\lambda_r}{\\lambda_s}$ se cumple más frecuentemente entonces terminamos rechazando en menos casos. Si $\\displaystyle\\frac{\\lambda_r}{\\lambda_s} = 1$, como $P(\\omega_{1}|x) > 1 - 1  = 0$ se satisface siempre, osea, en ningun momento es conveniente rechazar. \n",
    "\n",
    "Por otro lado, si $\\displaystyle\\frac{\\lambda_r}{\\lambda_s}$ tiende a 0, estamos disminuyendo el costo de la accion de rechazar, por lo tanto vamos a rechazar más frecuentemente. Cuando $\\displaystyle\\frac{\\lambda_r}{\\lambda_s} = 0$, $P(\\omega_{1}|x) > 1 - 0  = 1$ y siempre nos conviene rechazar. "
   ]
  },
  {
   "cell_type": "code",
   "execution_count": 4,
   "metadata": {},
   "outputs": [
    {
     "data": {
      "text/plain": [
       "Text(0.5, 1.0, 'Rechazo cuando $\\\\frac{\\\\lambda_r}{\\\\lambda_s} = 0$ ')"
      ]
     },
     "execution_count": 4,
     "metadata": {},
     "output_type": "execute_result"
    },
    {
     "data": {
      "image/png": "[encoded data removed]",
      "text/plain": [
       "<Figure size 720x360 with 2 Axes>"
      ]
     },
     "metadata": {
      "needs_background": "light"
     },
     "output_type": "display_data"
    }
   ],
   "source": [
    "x = np.linspace(-4,4,100)\n",
    "g1 = (1/2) * norm.pdf(x,1,1)\n",
    "g2 = (1/2) * norm.pdf(x,-1,1)\n",
    "g3 = (0 * (g1 + g2))\n",
    "fig,(ax1,ax2) = plt.subplots(1,2,figsize=(10,5))\n",
    "ax1.plot(x,g1,label= 'Clase 1')\n",
    "ax1.plot(x,g2,label= 'Clase 2')\n",
    "ax1.plot(x,g3,label= r'Rechazo cuando \\frac{\\lambda_r}{\\lambda_s} = 1 ')\n",
    "ax1.set_title(r'Rechazo cuando $\\frac{\\lambda_r}{\\lambda_s} = 1$ ')\n",
    "g3 = (1 * (g1 + g2))\n",
    "ax2.plot(x,g1)\n",
    "ax2.plot(x,g2)\n",
    "ax2.plot(x,g3)\n",
    "ax2.set_title(r'Rechazo cuando $\\frac{\\lambda_r}{\\lambda_s} = 0$ ')\n"
   ]
  },
  {
   "cell_type": "markdown",
   "metadata": {},
   "source": [
    " <span style=\"color:red\"> RESPONDA EL INCISO D AQUÍ </span>"
   ]
  },
  {
   "cell_type": "code",
   "execution_count": 34,
   "metadata": {},
   "outputs": [
    {
     "data": {
      "text/plain": [
       "<matplotlib.legend.Legend at 0x7f2f18b6aa10>"
      ]
     },
     "execution_count": 34,
     "metadata": {},
     "output_type": "execute_result"
    },
    {
     "data": {
      "image/png": "[encoded data removed]",
      "text/plain": [
       "<Figure size 432x288 with 1 Axes>"
      ]
     },
     "metadata": {
      "needs_background": "light"
     },
     "output_type": "display_data"
    }
   ],
   "source": [
    "x = np.linspace(-2,4,100)\n",
    "g1 = (1/3) * norm.pdf(x,1,1)\n",
    "g2 = (2/3) * norm.pdf(x,0,1/4)\n",
    "g3 = (1/2) * (g1 + g2)\n",
    "fig,ax = plt.subplots()\n",
    "plt.plot(x,g1,label= 'Clase 1')\n",
    "plt.plot(x,g2,label= 'Clase 2')\n",
    "plt.plot(x,g3,label= 'Rechazo')\n",
    "plt.legend(loc='best')"
   ]
  },
  {
   "cell_type": "code",
   "execution_count": 35,
   "metadata": {},
   "outputs": [
    {
     "data": {
      "text/plain": [
       "<matplotlib.legend.Legend at 0x7f2f18b2cb50>"
      ]
     },
     "execution_count": 35,
     "metadata": {},
     "output_type": "execute_result"
    },
    {
     "data": {
      "image/png": "[encoded data removed]",
      "text/plain": [
       "<Figure size 432x288 with 1 Axes>"
      ]
     },
     "metadata": {
      "needs_background": "light"
     },
     "output_type": "display_data"
    }
   ],
   "source": [
    "\n",
    "plt.fill_between(x,0,g1,where = (g1 >= g2) & (g1 >= g3),label='Clase 1')\n",
    "plt.fill_between(x,0,g2,where = (g2 >= g1) & (g2 >= g3),label='Clase 2')\n",
    "plt.fill_between(x,0,g3,where = (g3 >= g2) & (g3 >= g1),label='Rechazo')\n",
    "plt.legend(loc='best')"
   ]
  },
  {
   "cell_type": "markdown",
   "metadata": {},
   "source": [
    "Podemos ver que en este caso no conviene rechazar nunca"
   ]
  },
  {
   "cell_type": "markdown",
   "metadata": {},
   "source": [
    "\n",
    "# Ejercicio 3. \n",
    "\n",
    "Verifique que en el caso Normal bivariado , asumiendo clases equiprobables y la misma matriz de varianza covarianza, vale: \n",
    "\n",
    "* a) Si $\\Sigma=\\sigma^2 I$, maximizar $g_i({\\bf x})$ implica minimizar la distancia euclidea entre ${\\bf x}$ y ${\\bf \\mu_i}$,\n",
    "\n",
    "\n",
    "* b) Si $\\Sigma$ no diagonal, maximizar $g_i({\\bf x})$ implica minimizar la distancia de Mahalanobis entre ${\\bf x}$ y ${\\bf \\mu_i}$. \n",
    "\n",
    "\n",
    "* c) En una tarea de clasificacion de dos clases con dos caracteristicas, los vectores son generados por distribuciones normales que comparten la misma matriz de varianza covarianza ${\\bf x}|\\omega_1\\sim \\mathcal{N}(\\mathbf{0},\\left(\\begin{array}{cc}\n",
    "1.1&0.3\\\\\n",
    " 0.3& 1.9\\end{array}\\right))$, ${\\bf x} |\\omega_2\\sim \\mathcal{N}\\left(\\left(\\begin{array}{c}\n",
    " 3\\\\ 3\\end{array}\\right),\\left(\\begin{array}{cc}\n",
    "1.1&0.3\\\\\n",
    " 0.3& 1.9\\end{array}\\right)\\right)$. Clasifique el vector $(1,2.2)$ acorde con el clasificador Bayesiano. Coincide dicha clase con la clase cuya media es la más cercana (usando la distancia Euclidea)?\n",
    "\n",
    "\n",
    "* d) Compute los ejes principales del elipse centrado en (0,0) que corresponde a la distanca de Mahalanobis $dm= \\sqrt{ 2.952}$ del centro. \n",
    "\n",
    "\n",
    "\n"
   ]
  },
  {
   "cell_type": "markdown",
   "metadata": {},
   "source": [
    " # *Respuesta*   <font color = 'RED'> estudiar esta respuesta </font>"
   ]
  },
  {
   "cell_type": "markdown",
   "metadata": {},
   "source": [
    "\n",
    "\n",
    "a) Para el caso normal, se tiene que \n",
    "$$g_i(x) = \\left( (2\\pi)^k \\det(\\Sigma)\\right)^{-1/2} \\exp\\left(-\\frac 12(x-\\mu)'\\Sigma^{-1}(x-\\mu)\\right)\\cdot P(\\omega_i).$$\n",
    "Tomando logaritmos resulta:\n",
    "$$\\log g_i(x) = -\\frac k2 \\log(2\\pi) -\\frac {\\log(\\det(\\Sigma))}2 - \\frac 12(x-\\mu)'\\Sigma^{-1}(x-\\mu)+\\log P(\\omega_i).$$\n",
    "Eliminando los términos que son iguales para todas las clases, sólo queda el término que incluye a la media $\\mu$. Luego podemos tomar la función discriminante como:\n",
    "$$g_i(x) = -(x-\\mu)'\\Sigma^{-1}(x-\\mu) = \\sigma^{-2}  (x-\\mu)'(x-\\mu).$$\n",
    "Luego multiplicando por $\\sigma^2$ y calculando la raíz cuadrada resulta $$g_i(x) = -||x-\\mu||_2,$$ el opuesto de la distancia euclídea.\n",
    "Así, como el clasificador clasifica en la clase $i$ si $g_i(x)$ es máximo, esto es equivalente a que la distancia euclídea sea mínima.\n"
   ]
  },
  {
   "cell_type": "markdown",
   "metadata": {},
   "source": [
    " <span style=\"color:red\"> RESPONDA EL INCISO B AQUÍ </span>"
   ]
  },
  {
   "cell_type": "markdown",
   "metadata": {},
   "source": [
    "Recordemos que asumimos que las clases son equiprobables y tienen misma matriz de covarianzas, luego podemos hacer simplificaciones muy similares a las del inciso anterior:\n",
    "Vamos a tomar logaritmo pues al ser el logaritmo una funcion monotona creciente, obtenemos un discriminante equivalente (genera las mismas regiones de desición).\n",
    "$$\\log g_i(x) = -\\frac k2 \\log(2\\pi) -\\frac {\\log(\\det(\\Sigma))}2 - \\frac 12(x-\\mu)'\\Sigma^{-1}(x-\\mu)+\\log P(\\omega_i).$$  \n",
    "De nuevo, vamos a simplificar los terminos que son iguales para todas las clases, osea $\\det(\\Sigma)$ y $\\cfrac k2$, quedandonos con:\n",
    "$$\n",
    "g_i{x} = -\\cfrac 12 (x-\\mu)' \\Sigma ^{-1}(x-\\mu) + \\log P(\\omega_{i})\n",
    "$$\n",
    "Como ademas las probabilidades a priori son iguales, tambien podemos ignorar $\\log P(\\omega_{i})$ quedandonos\n",
    "$$\n",
    "g_i{x} = -\\cfrac 12 (x-\\mu)' \\Sigma ^{-1}(x-\\mu)\n",
    "$$\n",
    "Que eso es el opuesto, multiplicado por $\\cfrac 12$ de la distancia de Mahalanobis. Luego, minimizando la distancia, maximizamos nuestra funcion discriminante"
   ]
  },
  {
   "cell_type": "markdown",
   "metadata": {},
   "source": [
    " <span style=\"color:red\"> RESPONDA EL INCISO C AQUÍ </span>"
   ]
  },
  {
   "cell_type": "markdown",
   "metadata": {},
   "source": [
    "Para clasificar este vector con la regla de desición bayesiana, por lo probado en el inciso b (clases con la misma matriz de varianza-covarianzas no diagonal e igualmente ditribuidas), esto es tan sencillo como calcular la distancia de Mahalanobis de $x$ a los vectores de media de cada clase, y asignamos a $x$ la clase a la cual tenga menor distancia:  "
   ]
  },
  {
   "cell_type": "code",
   "execution_count": 7,
   "metadata": {},
   "outputs": [],
   "source": [
    "from scipy.spatial.distance import mahalanobis\n",
    "from scipy.spatial.distance import euclidean\n",
    "mu1 = [0,0]\n",
    "mu2 = [3,3]\n",
    "x = [1,2.2]\n",
    "vcov = [[1.1,0.3],[0.3,1.9]]\n",
    "ivcov = np.linalg.inv(vcov)"
   ]
  },
  {
   "cell_type": "code",
   "execution_count": 8,
   "metadata": {},
   "outputs": [
    {
     "data": {
      "text/plain": [
       "1.7181385275931627"
      ]
     },
     "execution_count": 8,
     "metadata": {},
     "output_type": "execute_result"
    }
   ],
   "source": [
    "mahalanobis(mu1,x,ivcov)"
   ]
  },
  {
   "cell_type": "code",
   "execution_count": 9,
   "metadata": {},
   "outputs": [
    {
     "data": {
      "text/plain": [
       "1.9162463307205573"
      ]
     },
     "execution_count": 9,
     "metadata": {},
     "output_type": "execute_result"
    }
   ],
   "source": [
    "mahalanobis(mu2,x,ivcov)"
   ]
  },
  {
   "cell_type": "markdown",
   "metadata": {},
   "source": [
    "Clasificamos a $x = (1,2.2)$ como de la clase $\\omega_{1}$"
   ]
  },
  {
   "cell_type": "code",
   "execution_count": 10,
   "metadata": {},
   "outputs": [
    {
     "data": {
      "text/plain": [
       "2.4166091947189146"
      ]
     },
     "execution_count": 10,
     "metadata": {},
     "output_type": "execute_result"
    }
   ],
   "source": [
    "euclidean(mu1,x)"
   ]
  },
  {
   "cell_type": "code",
   "execution_count": 11,
   "metadata": {},
   "outputs": [
    {
     "data": {
      "text/plain": [
       "2.1540659228538015"
      ]
     },
     "execution_count": 11,
     "metadata": {},
     "output_type": "execute_result"
    }
   ],
   "source": [
    "euclidean(mu2,x)"
   ]
  },
  {
   "cell_type": "markdown",
   "metadata": {},
   "source": [
    "No, la clasificación no sería la misma, lo cual tiene sentido pues si usamos distancia Euclidea estamos asumiendo que las normales son independientes (covarianza 0), y no es el caso. Podria darse la casualidad de que la clasificación coincida pero estaríamos cometiendo un error al no contemplar toda la información."
   ]
  },
  {
   "cell_type": "code",
   "execution_count": 12,
   "metadata": {},
   "outputs": [
    {
     "data": {
      "text/plain": [
       "(-0.5, 0.2)"
      ]
     },
     "execution_count": 12,
     "metadata": {},
     "output_type": "execute_result"
    },
    {
     "data": {
      "image/png": "[encoded data removed]",
      "text/plain": [
       "<Figure size 720x720 with 1 Axes>"
      ]
     },
     "metadata": {
      "needs_background": "light"
     },
     "output_type": "display_data"
    }
   ],
   "source": [
    "import numpy as np\n",
    "import matplotlib.pyplot as plt\n",
    "from matplotlib import cm\n",
    "from mpl_toolkits.mplot3d import Axes3D\n",
    "from scipy.stats import multivariate_normal\n",
    "\n",
    "# Our 2-dimensional distribution will be over variables X and Y\n",
    "N = 60\n",
    "X = np.linspace(-5, 5, N)\n",
    "Y = np.linspace(-5, 5, N)\n",
    "X, Y = np.meshgrid(X, Y)\n",
    "\n",
    "# Pack X and Y into a single 3-dimensional array\n",
    "pos = np.empty(X.shape + (2,))\n",
    "pos[:, :, 0] = X\n",
    "pos[:, :, 1] = Y\n",
    "\n",
    "# The distribution on the variables X, Y packed into pos.\n",
    "F1 = multivariate_normal(mu1, vcov)\n",
    "Z1 = F1.pdf(pos)\n",
    "F2 = multivariate_normal(mu2, vcov)\n",
    "Z2 = F2.pdf(pos)\n",
    "\n",
    "# Create a surface plot and projected filled contour plot under it.\n",
    "fig = plt.figure(figsize=(10,10))\n",
    "ax = fig.gca(projection='3d')\n",
    "\n",
    "ax.plot_surface(X, Y, Z1, linewidth=1, antialiased=True,\n",
    "                cmap=cm.viridis)\n",
    "\n",
    "ax.plot_surface(X, Y, Z2, linewidth=1, antialiased=True,\n",
    "                cmap=cm.viridis)\n",
    "\n",
    "cset = ax.contourf(X, Y, Z1, zdir='z', offset=-0.15)\n",
    "cset = ax.contourf(X, Y, Z2, zdir='z', offset=-0.30)\n",
    "ax.view_init(20,90)\n",
    "ax.set_zlim(-0.5,0.2)\n"
   ]
  },
  {
   "cell_type": "markdown",
   "metadata": {},
   "source": [
    "<span style=\"color:red\"> ESTUDIAR ESTA RESPUESTA Y COMPLETAR!!!</span>\n",
    "\n",
    "d) La elipse con centro en $(0,0)$ y radio $r$ se corresponde a la ecuación \n",
    "$$\\frac{x^2}{a^2} + \\frac{y^2}{b^2} = r^2,$$\n",
    "donde $a$ y $b$ son las semilongitudes de los ejes de la elipse. \n",
    "\n",
    "### Cálculo de la elipse\n",
    "\n",
    "La distancia de Mahalanobis para una matriz $\\Sigma^{-1} = \\left(\\begin{array}{cc}u & v \\\\ v & w \\end{array}\\right)$ al punto $(0,0)$ resulta:\n",
    "$$d_M^2 ((x,y), (0,0)) = (x,y)' \\Sigma^{-1} (x,y) = u x^2 + 2 v xy + wy^2. \\qquad \\qquad (1)$$\n",
    "\n",
    "Queremos encontrar los ejes de la elipse dada por $d_M ((x,y), (0,0))= \\sqrt{2.952}$.\n",
    "Dado que si $v\\neq 0$ es porque se trata de una elipse rotada, analizamos la elipse canónica:\n",
    "$$\\frac{\\tilde x^2}{a^2} + \\frac{\\tilde y^2}{b^2} = r^2 = 2.952.$$\n",
    "Escribimos \n",
    "$$\\begin{cases}\n",
    "\\tilde x &= x \\cos \\theta - y \\sin\\theta \\\\\n",
    "\\tilde y &= x \\sin \\theta + y \\cos\\theta\n",
    "\\end{cases}\n",
    "= Q \\cdot \\left(\\begin{array}{c}x \\\\ y \\end{array}\\right), \\qquad \\mbox{es decir} \\qquad \\left(\\begin{array}{c}x \\\\ y \\end{array}\\right) = Q^T \\left(\\begin{array}{c}\\tilde x \\\\ \\tilde y \\end{array}\\right)\n",
    "$$\n",
    "donde $Q$ es la matriz de rotación.\n",
    "Reemplazando $\\tilde x$ y $\\tilde y$ en la ecuación de la elipse resulta:\n",
    "\\begin{eqnarray}\n",
    "\\frac 1{a^2} \\tilde x^2 &=& \\frac 1{a^2}\\left(x^2 \\cos^2 \\theta -2xy \\sin\\theta\\cos\\theta + y^2 \\sin^2 \\theta\\right)\\\\\n",
    "\\frac 1{b^2} \\tilde y^2 &=& \\frac 1{b^2}\\left(x^2 \\sin^2 \\theta +2xy \\sin\\theta\\cos\\theta + y^2 \\cos^2 \\theta\\right)\\\\\n",
    "\\mbox{sumamos} & &\\\\\n",
    "r^2 &= &x^2(\\frac 1{a^2} \\cos^2 \\theta + \\frac 1b\\sin^2 \\theta) + 2xy(\\frac 1{b^2}-\\frac 1{a^2})\\sin\\theta\\cos\\theta + y^2(\\frac 1{a^2}\\sin^2\\theta + \\frac 1{b^2}\\cos^2\\theta)\n",
    "\\end{eqnarray}\n",
    "\n",
    "De aquí resulta, volviendo a la fórmula (1):\n",
    "$$\n",
    "\\begin{cases}\n",
    "u &= \\frac 1{a^2} \\cos^2 \\theta + \\frac 1{b^2}\\sin^2 \\theta\\\\\n",
    "w &= \\frac 1{a^2}\\sin^2\\theta + \\frac 1{b^2}\\cos^2\\theta\\\\\n",
    "v &= (\\frac 1{b^2}-\\frac 1{a^2})\\sin\\theta\\cos\\theta\n",
    "\\end{cases}\n",
    "$$\n",
    "\n",
    "Operando con estas ecuaciones obtenemos:\n",
    "$$u+ w = \\frac{1}{a^2} + \\frac{1}{b^2}, \\qquad \n",
    "w-u = (\\frac{1}{b^2}-\\frac 1{a^2}) \\cos2\\theta, \\qquad \\qquad 2v = (\\frac{1}{b^2}-\\frac 1{a^2}) \\sin 2\\theta$$.\n",
    "\n",
    "Así los ejes principales de la elipse están en la dirección rotada por el ángulo $\\theta$ de $(1,0)$ y $(0,1)$ respectivamente.\n",
    "\n",
    "Luego $\\tan 2\\theta = \\frac {2v}{w-u}$, es decir $$\\theta = \\frac 12 \\tan^{-1} \\frac {2v}{w-u}.$$\n",
    "\n",
    "### Especificamos en el ejemplo\n",
    "\n",
    "$$\\Sigma^{-1} = \\left(\\begin{array}{cc}0.95 & -0.15 \\\\ -0.15 & 0.55 \\end{array}\\right).$$\n",
    "Así tenemos que \n",
    "$$\\tan 2\\theta = -\\frac{0.3}{-0.4} = 0.75, $$"
   ]
  },
  {
   "cell_type": "code",
   "execution_count": 13,
   "metadata": {},
   "outputs": [],
   "source": [
    "theta = np.arctan(0.75)/2\n",
    "theta2 = np.arctan(0.75)\n",
    "cos2theta = np.cos(theta2)\n",
    "sen2theta = np.sin(theta2)"
   ]
  },
  {
   "cell_type": "markdown",
   "metadata": {},
   "source": [
    "<span style=\"color:red\">CODIFIQUE AQUÍ ESTOS VALORES </span>"
   ]
  },
  {
   "cell_type": "markdown",
   "metadata": {},
   "source": [
    "Tenemos $$\n",
    "\\begin{cases}\n",
    "\\frac 1{a^2} + \\frac 1{b^2} &= 0.95 + 0.55 = 1.5, \\\\\n",
    "\\frac{1}{b^2}- \\frac 1{a^2}  &= \\frac {-0.4}{0.949}\n",
    "\\end{cases}\n",
    "$$"
   ]
  },
  {
   "cell_type": "markdown",
   "metadata": {},
   "source": [
    "<span style=\"color:red\">CODIFIQUE AQUÍ ESTOS VALORES</span>"
   ]
  },
  {
   "cell_type": "markdown",
   "metadata": {},
   "source": [
    "Sumando ambas ecuaciones, tenemos que \n",
    "$$\n",
    "\\frac 1{a^2} + \\frac 1{b^2} + (\\frac{1}{b^2}- \\frac 1{a^2}) = \\frac 2{b^2} = u + w + \\cfrac{(w-u)}{cos(2\\theta)}\n",
    "$$\n",
    "Luego\n",
    "$$\n",
    "b = \\sqrt{\\cfrac{2}{u+w+\\cfrac{w-u}{cos(2\\theta)}}}\n",
    "$$\n",
    "\n",
    "Similarmente para a,pero en este caso restamos ambas ecuaciones, obtenemos:\n",
    "$$\n",
    "\\frac 1{a^2} + \\frac 1{b^2} - (\\frac{1}{b^2}- \\frac 1{a^2})= \\frac2{a^2} = u + w - \\cfrac{(w-u)}{cos(2\\theta)}\n",
    "$$\n",
    "y \n",
    "$$\n",
    "a = \\sqrt{\\cfrac{2}{u+w-\\cfrac{w-u}{cos(2\\theta)}}}\n",
    "$$"
   ]
  },
  {
   "cell_type": "code",
   "execution_count": 14,
   "metadata": {},
   "outputs": [
    {
     "name": "stdout",
     "output_type": "stream",
     "text": [
      "a = 1.0, b = 1.4142135623730951\n"
     ]
    }
   ],
   "source": [
    "u = 0.95\n",
    "w = 0.55\n",
    "b = np.sqrt(2/(u+w+(w-u)/cos2theta))\n",
    "a = np.sqrt(2/(u+w-(w-u)/cos2theta))\n",
    "print(\"a = {}, b = {}\".format(a,b))"
   ]
  },
  {
   "cell_type": "markdown",
   "metadata": {},
   "source": [
    "Luego la elipse no rotada es:\n",
    "$$\\frac {\\tilde x^2}{1^2} + \\frac{\\tilde y^2}{(\\sqrt 2)^2} = 2.952 = r^2.$$\n",
    "Las longitudes de los ejes son:\n",
    "$$ a_1 = \\sqrt{2.952}, \\qquad b_1 = \\sqrt{2 \\cdot 2.952}$$"
   ]
  },
  {
   "cell_type": "markdown",
   "metadata": {},
   "source": [
    "<span style=\"color:red\">CODIFIQUE AQUÍ LA ELIPSE Y HAGA UNA FUNCIÓN PARA USAR EN OTRA OCASIÓN</span>"
   ]
  },
  {
   "cell_type": "markdown",
   "metadata": {},
   "source": [
    "La matriz de rotacion como visto en la resolución sería:"
   ]
  },
  {
   "cell_type": "code",
   "execution_count": 15,
   "metadata": {},
   "outputs": [],
   "source": [
    "Q = np.array([[np.cos(theta),-np.sin(theta)],[np.sin(theta),np.cos(theta)]])"
   ]
  },
  {
   "cell_type": "markdown",
   "metadata": {},
   "source": [
    "Y queremos computar los ejes principales de la elipse con centro en $(0,0)$.\n",
    "Ya vimos que la longitud de los ejes son $r$ y $\\sqrt{2}r$, entonces, dada nuestra matriz de rotación, los ejes principales quedan:"
   ]
  },
  {
   "cell_type": "code",
   "execution_count": 16,
   "metadata": {},
   "outputs": [
    {
     "data": {
      "text/plain": [
       "array([ 1.62996932, -0.54332311])"
      ]
     },
     "execution_count": 16,
     "metadata": {},
     "output_type": "execute_result"
    }
   ],
   "source": [
    "r = np.sqrt(2.952)\n",
    "ejea1 = (Q.transpose().dot([r,0]))\n",
    "ejea1"
   ]
  },
  {
   "cell_type": "code",
   "execution_count": 17,
   "metadata": {},
   "outputs": [
    {
     "data": {
      "text/plain": [
       "array([0.76837491, 2.30512473])"
      ]
     },
     "execution_count": 17,
     "metadata": {},
     "output_type": "execute_result"
    }
   ],
   "source": [
    "ejeb1 = (Q.transpose().dot([0,np.sqrt(2)*r]))\n",
    "ejeb1"
   ]
  },
  {
   "cell_type": "code",
   "execution_count": 18,
   "metadata": {},
   "outputs": [
    {
     "data": {
      "image/png": "[encoded data removed]",
      "text/plain": [
       "<Figure size 360x360 with 1 Axes>"
      ]
     },
     "metadata": {
      "needs_background": "light"
     },
     "output_type": "display_data"
    }
   ],
   "source": [
    "import matplotlib.pyplot as plt\n",
    "from matplotlib.patches import Ellipse\n",
    "from math import pi\n",
    "fig,ax = plt.subplots(figsize=(5,5))\n",
    "ax.add_patch( Ellipse((0,0),2*r,2*np.sqrt(2)*r,angle=-theta*180/pi,fill=False))\n",
    "ax.set_xlim(-2,2)\n",
    "ax.set_ylim(-3,3)\n",
    "plt.show()"
   ]
  },
  {
   "cell_type": "markdown",
   "metadata": {},
   "source": [
    "# Ejercicio 4. \n",
    "\n",
    "* (a) Describa un procedimiento para generar muestras aleatorias de acuerdo a una distribucion normal\n",
    "$\\mathcal{N}_d(\\mu,\\Sigma)$, y un código Python (puede usar algun paquete). \n",
    "\n",
    "\n",
    "* (b) Describa un procedimiento que calcule la funcion discriminante para una distribucion normal dada y probabilidad a priori $P(\\omega_i)$, y un código Python (puede usar algun paquete).\n",
    "\n",
    "\n",
    "* (c) Describa un procedimiento que calcule la distancia euclidea entre dos puntos arbitrarios.\n",
    "\n",
    "\n",
    "* (d)  Escriba un procedimiento que calcule la distancia de Mahalanobis entre la media $\\mu$ y un punto arbitrario $x$, dada la matriz de covarianza $\\Sigma$.\n",
    "\n",
    "Puede usar \n",
    "\n",
    "https://scikit-learn.org/stable/auto_examples/classification/plot_lda_qda.html#sphx-glr-auto-examples-classification-plot-lda-qda-py\n",
    "\n"
   ]
  },
  {
   "cell_type": "markdown",
   "metadata": {},
   "source": [
    "# *Respuesta*"
   ]
  },
  {
   "cell_type": "markdown",
   "metadata": {},
   "source": [
    "Con el paquete numpy y la función https://docs.scipy.org/doc/numpy-1.15.1/reference/generated/numpy.random.multivariate_normal.html podemos obtener muestras aleatorias con distribución normal.\n"
   ]
  },
  {
   "cell_type": "code",
   "execution_count": 19,
   "metadata": {},
   "outputs": [],
   "source": [
    "from numpy.random import multivariate_normal\n",
    "def muestra(media,vcov,n):\n",
    "    return np.random.multivariate_normal(media, vcov, n)"
   ]
  },
  {
   "cell_type": "markdown",
   "metadata": {},
   "source": [
    " <span style=\"color:red\"> RESPONDA EL INCISO B AQUÍ .</span>"
   ]
  },
  {
   "cell_type": "markdown",
   "metadata": {},
   "source": [
    "Tenemos que la clasificación con tasa de error minimo puede  alcanzarse con la función discriminante:\n",
    "$$\\log g_i(x) = -\\frac k2 \\log(2\\pi) -\\frac {\\log(\\det(\\Sigma))}2 - \\frac 12(x-\\mu)'\\Sigma^{-1}(x-\\mu)+\\log P(\\omega_i).$$"
   ]
  },
  {
   "cell_type": "code",
   "execution_count": 20,
   "metadata": {},
   "outputs": [],
   "source": [
    "import numpy as np\n",
    "from math import pi\n",
    "def discriminante(mu,sigma,apriori):\n",
    "    detSigma = np.linalg.det(sigma)\n",
    "    invSigma = np.linalg.inv(sigma)\n",
    "    return (lambda x: -np.log(2*pi) - np.log(detSigma)/2 - 0.5*np.transpose((x-mu))*invSigma.dot(x-mu) + np.log(apriori))"
   ]
  },
  {
   "cell_type": "markdown",
   "metadata": {},
   "source": [
    "Discriminante lineal: mismas matriz de varianza covarianza\n",
    "Discriminante cuadratico: matrices de covarianza distintas."
   ]
  },
  {
   "cell_type": "markdown",
   "metadata": {},
   "source": [
    " <span style=\"color:red\"> RESPONDA EL INCISO C AQUÍ </span>\n"
   ]
  },
  {
   "cell_type": "markdown",
   "metadata": {},
   "source": [
    "Para calcular la distancia Euclidea entre dos puntos arbitrarios, $x,y$, debemos calcular la raiz cuadrada de las diferencias al cuadrado coordenada a coordenada\n",
    "$$\n",
    "d_{e}(X,Y) = \\sqrt{\\sum_{i=0}^n (y_{i}-x_{i})^{2}}\n",
    "$$\n",
    "Podemos hacerlo fácilmente con la librería scipy"
   ]
  },
  {
   "cell_type": "code",
   "execution_count": 21,
   "metadata": {},
   "outputs": [],
   "source": [
    "from scipy.spatial.distance import euclidean\n",
    "def de(x,y):\n",
    "    return euclidean(x,y)"
   ]
  },
  {
   "cell_type": "markdown",
   "metadata": {},
   "source": [
    " <span style=\"color:red\"> RESPONDA EL INCISO D AQUÍ </span>"
   ]
  },
  {
   "cell_type": "markdown",
   "metadata": {},
   "source": [
    "Para calcular la distancia de mahalanobis, es un poco mas complicado. Dada la media $\\mu$ , un punto arbitrario $x$ y la matriz de varianza-covarianza $\\Sigma$, para calcular la distancia de mahalanobis lo que tenemos que hacer es primero calcular la inversa de $\\Sigma$,$\\Sigma^{-1}$ y la distancia de mahalanobis esta dada por:\n",
    "$$\n",
    "d_{m}(x,\\mu) = \\sqrt{ (x-\\mu)^{T}\\Sigma^{-1}(x-\\mu)}\n",
    "$$"
   ]
  },
  {
   "cell_type": "code",
   "execution_count": 3,
   "metadata": {},
   "outputs": [],
   "source": [
    "from scipy.spatial.distance import mahalanobis\n",
    "from numpy.linalg import inv\n",
    "def dm(x,mu,sigma):\n",
    "    isigma = inv(sigma)\n",
    "    return mahalanobis(x,mu,isigma)\n",
    "    "
   ]
  },
  {
   "cell_type": "markdown",
   "metadata": {},
   "source": [
    "# Ejercicio 5. \n",
    "\n"
   ]
  },
  {
   "cell_type": "markdown",
   "metadata": {},
   "source": [
    "* (a)  Utilice el codigo del problema anterior para simular dos normales $(X_1,X_2)$ con $\\Sigma= C^T.C$, y $C= \\left(\\begin{array}{cc}\n",
    "0&-0.23\\\\\n",
    " 0.83& .23\\end{array}\\right)$ y vectores de media $\\mu_1 =(0,0)$ y $\\mu_2=(1,1)$ respectivamente. \n",
    " \n",
    " \n",
    "* (b) Supongamos que las probabilidades a priori de las dos primeras categorias son iguales ($P(\\omega_1)=P(\\omega_2)=\\displaystyle\\frac12$, diseñe y codifique  un clasificador para  dos categorias normales utilizando solo el valor de caracteristica $X_1$ especificada en el inciso anteiror. El código resultante debe poder clasificar una nueva muestra basado en esta información. \n",
    "\n",
    "Recuerde que para el diseño del clasificador se estimará la media y varianza a partir de los datos de cada una de las muestras. Si para la muestra $i$ la media y varianza son $\\mu_i$ y $\\sigma_i^2$ respectivamente, se clasificará un valor $x$ en la muestra $1$ si \n",
    "$$\\frac 1{\\sqrt{2\\pi\\sigma_1^2}} e^{-(x-\\mu_1)^2/2\\sigma_1^2}P(\\omega_1) > \\frac 1{\\sqrt{2\\pi\\sigma_2^2}} e^{-(x-\\mu_2)^2/2\\sigma_2^2}P(\\omega_1).$$\n",
    "Tomando logaritmos, y eliminando las probabilidades a priori $P(\\omega_i)$ por ser iguales esto es equivalente a decidir por la clase 1 si \n",
    "$$-\\frac 12 \\ln(2\\pi) - \\ln \\sigma_1 - \\frac{(x-\\mu_1)^2}{2\\sigma_1^2} > \n",
    "-\\frac 12 \\ln(2\\pi) - \\ln \\sigma_2 - \\frac{(x-\\mu_2)^2}{2\\sigma_2^2}$$\n",
    "es decir, si \n",
    "$$ \\ln \\sigma_1 + \\frac{(x-\\mu_1)^2}{2\\sigma_1^2} <  \\ln \\sigma_2 + \\frac{(x-\\mu_2)^2}{2\\sigma_2^2}.$$\n",
    "\n",
    "\n",
    "\n",
    "* (c) Determinar el error de entrenamiento empirico en sus muestras, es decir, el porcentaje de puntos mal clasificados, dividiendo el conjunto de $n=100$ muestras aleatoriamente en 80\\% entrenamiento 20\\% test. Repita incrementando los valores de $n$, $100\\leq n\\leq 10000$ en pasos de 100 y grafique el error empirico obtenido.\n",
    "\n",
    "\n",
    "* (d) Utilice la cota de Bhattacharyya para acotar el error que obtendran los  patrones nuevos obtenidos muestreando las distribuciones.\n",
    "\n",
    "\n",
    "* (e) Repita todo lo anterior, pero ahora utilice dos caracteristicas, $X_1$ y $X_2$.\n",
    "\n",
    "\n",
    "* (f) Analice sus resultados. En particular, ¿es siempre posible para un conjunto finito de datos que  el error empirico pueda ser mayor al aumentar la dimension de los datos?."
   ]
  },
  {
   "cell_type": "markdown",
   "metadata": {},
   "source": [
    "# *Respuesta*"
   ]
  },
  {
   "cell_type": "markdown",
   "metadata": {},
   "source": [
    " <span style=\"color:red\"> RESPONDA EL INCISO A AQUÍ </span>  "
   ]
  },
  {
   "cell_type": "code",
   "execution_count": 23,
   "metadata": {},
   "outputs": [],
   "source": [
    "import numpy as np\n",
    "np.random.seed(0)\n",
    "C = np.array([[0,-0.23],[0.83,0.23]])\n",
    "sigma = np.dot(C.transpose(),C)\n",
    "MU1 = np.array([0,0])\n",
    "MU2 = np.array([1,1])\n",
    "X1 = muestra(MU1,sigma,100)\n",
    "X2 = muestra(MU2,sigma,100)\n"
   ]
  },
  {
   "cell_type": "code",
   "execution_count": 24,
   "metadata": {},
   "outputs": [
    {
     "data": {
      "text/plain": [
       "array([[0.6889, 0.1909],\n",
       "       [0.1909, 0.1058]])"
      ]
     },
     "execution_count": 24,
     "metadata": {},
     "output_type": "execute_result"
    }
   ],
   "source": [
    "sigma"
   ]
  },
  {
   "cell_type": "markdown",
   "metadata": {},
   "source": [
    " <span style=\"color:red\"> RESPONDA EL INCISO B AQUÍ <br>"
   ]
  },
  {
   "cell_type": "code",
   "execution_count": 25,
   "metadata": {},
   "outputs": [],
   "source": [
    "# Nos quedamos solamente con la primera coordenada, osea, solo una caracteristica\n",
    "x1 = X1[:,0]\n",
    "x2 = X2[:,0]\n",
    "    "
   ]
  },
  {
   "cell_type": "code",
   "execution_count": 26,
   "metadata": {},
   "outputs": [],
   "source": [
    "class ClasificadorNormales():\n",
    "    def __init__(self):\n",
    "        self.mus_estimadas = []\n",
    "        self.stds_estimadas = []\n",
    "        \n",
    "    def fit(self,muestras):\n",
    "        # Los datos me vienen en un arreglo de muestras\n",
    "        # donde la muestra en la posición i-esima\n",
    "        # se corresponde a las muestras generadas con la\n",
    "        # normal i-esima\n",
    "        self.mus_estimadas = [np.mean(muestra) for muestra in muestras]\n",
    "        self.stds_estimadas = [np.std(muestra) for muestra in muestras]\n",
    "\n",
    "\n",
    "    def discriminante(self,x,mu,sigma):\n",
    "        return np.log(sigma)+((x-mu)**2)/(2*(sigma**2))      \n",
    "    \n",
    "    def predict(self,x):\n",
    "        mus = self.mus_estimadas\n",
    "        sigmas = self.stds_estimadas\n",
    "        # Calculamos los discriminantes para cada cada una de las clases\n",
    "        # y devolvemos el minimo\n",
    "        discriminantes = np.array([self.discriminante(x,mu,sigma) for mu,sigma in zip(mus,sigmas)])\n",
    "        return np.argmin(discriminantes)        \n",
    "        \n",
    "    def error(self,test_data):\n",
    "        # test data es un arreglo de arreglos donde\n",
    "        # la primera posición corresponde a la primera clase,\n",
    "        # la segunda a la segunda y así\n",
    "        errors = []\n",
    "        for i in range(len(test_data)):\n",
    "            errors += [(self.predict(x) != i) for x in test_data[i]]\n",
    "        return np.mean(errors)"
   ]
  },
  {
   "cell_type": "markdown",
   "metadata": {},
   "source": [
    " <span style=\"color:red\"> RESPONDA EL INCISO C AQUÍ </span>"
   ]
  },
  {
   "cell_type": "code",
   "execution_count": 27,
   "metadata": {},
   "outputs": [],
   "source": [
    "from sklearn.model_selection import train_test_split\n",
    "# partimos en train y test\n",
    "n = 100\n",
    "errores = []\n",
    "X1 = muestra(MU1,sigma,100)\n",
    "X2 = muestra(MU2,sigma,100)\n",
    "x1 = X1[:,0]\n",
    "x2 = X2[:,0]\n",
    "for i in range(n):\n",
    "    np.random.seed(i)\n",
    "    X1 = muestra(MU1,sigma,100)\n",
    "    X2 = muestra(MU2,sigma,100)\n",
    "    x1 = np.concatenate((x1,X1[:,0]))\n",
    "    x2 = np.concatenate((x2,X2[:,0]))\n",
    "    x1_train, x1_test,x2_train,x2_test = train_test_split(x1,x2,train_size = 0.8)\n",
    "    # entrenamos el clasificador con la media de la muestra\n",
    "    clasificador = ClasificadorNormales()\n",
    "    clasificador.fit([x1_train,x2_train])\n",
    "    errores.append(clasificador.error([x1_test,x2_test]))"
   ]
  },
  {
   "cell_type": "code",
   "execution_count": 28,
   "metadata": {},
   "outputs": [
    {
     "data": {
      "text/plain": [
       "[<matplotlib.lines.Line2D at 0x7fc639904e90>]"
      ]
     },
     "execution_count": 28,
     "metadata": {},
     "output_type": "execute_result"
    },
    {
     "data": {
      "image/png": "[encoded data removed]",
      "text/plain": [
       "<Figure size 432x288 with 1 Axes>"
      ]
     },
     "metadata": {
      "needs_background": "light"
     },
     "output_type": "display_data"
    }
   ],
   "source": [
    "import matplotlib.pyplot as plt\n",
    "plt.plot(errores)"
   ]
  },
  {
   "cell_type": "markdown",
   "metadata": {},
   "source": [
    " <span style=\"color:red\"> RESPONDA EL INCISO D AQUÍ </span>"
   ]
  },
  {
   "cell_type": "markdown",
   "metadata": {},
   "source": [
    "Tenemos que la cota de Bhattacharyya para el caso normal bivariado, está dada por:\n",
    "$$\n",
    "P(error)\\le \\sqrt{P(\\omega_{1})P(\\omega_{2})}e^{k(1/2)}\n",
    "$$\n",
    "donde \n",
    "$$\n",
    "k(1/2) = 1/8(\\mu_{2}-\\mu_{1})^{t}\\left[\\cfrac{\\Sigma_{1}+\\Sigma_{2}}{2}^{-1}(\\mu_{2}-\\mu_{1})\\right] + \\cfrac 12 ln \\cfrac{\\cfrac{|\\Sigma_{1}+\\Sigma_{2}|}{2}}{\\sqrt|\\Sigma_{1}||\\Sigma_{2}|}\n",
    "$$\n"
   ]
  },
  {
   "cell_type": "code",
   "execution_count": 29,
   "metadata": {},
   "outputs": [],
   "source": [
    "def bhatta(P,mu1,mu2,sigma1,sigma2,n):\n",
    "    aprioris = np.sqrt(np.prod(P))\n",
    "    # calculamos cuantas distribuciones tenemos\n",
    "    if n>=2:\n",
    "        t1_1 = (1/8)*(mu2-mu1).transpose()\n",
    "        t1_2 = np.dot(inv((sigma1+sigma2)*0.5),mu2-mu1)\n",
    "        t1 = np.dot(t1_1,t1_2)\n",
    "        t2 = 0.5*np.log((det(sigma1+sigma2)/2)/np.sqrt(det(sigma1)*det(sigma2)))\n",
    "    else:\n",
    "        # Tenemos desviacion estandar, no matriz de varianzacovarianza\n",
    "        t1_1 = (1/8)*(mu2-mu1)\n",
    "        t1_2 = (sigma1+sigma2)*0.5*(mu2-mu1)\n",
    "        t1 = t1_1*t1_2\n",
    "        t2 = 0.5*np.log(((sigma1+sigma2)/2)/(np.sqrt(sigma1*sigma2)))        \n",
    "    expo = t1+t2\n",
    "    bhattabound = np.exp(-expo)*aprioris\n",
    "\n",
    "    return bhattabound"
   ]
  },
  {
   "cell_type": "code",
   "execution_count": 30,
   "metadata": {},
   "outputs": [
    {
     "data": {
      "text/plain": [
       "0.03644280999999999"
      ]
     },
     "execution_count": 30,
     "metadata": {},
     "output_type": "execute_result"
    }
   ],
   "source": [
    "det(sigma)"
   ]
  },
  {
   "cell_type": "code",
   "execution_count": 31,
   "metadata": {},
   "outputs": [
    {
     "data": {
      "text/plain": [
       "<matplotlib.legend.Legend at 0x7fc63a5d7d90>"
      ]
     },
     "execution_count": 31,
     "metadata": {},
     "output_type": "execute_result"
    },
    {
     "data": {
      "image/png": "[encoded data removed]",
      "text/plain": [
       "<Figure size 432x288 with 1 Axes>"
      ]
     },
     "metadata": {
      "needs_background": "light"
     },
     "output_type": "display_data"
    }
   ],
   "source": [
    "bhattabound = bhatta(np.array([0.5,0.5]),0,1,sigma[0][0],sigma[1][1],1)\n",
    "fig,ax = plt.subplots()\n",
    "plt.plot([bhattabound]*100,c='b',label='Cota de Bhattattarcharyya {:.2f}'.format(bhattabound))\n",
    "plt.plot(errores,c='r',label='Error real')\n",
    "plt.legend(loc='best')"
   ]
  },
  {
   "cell_type": "markdown",
   "metadata": {},
   "source": [
    " <span style=\"color:red\"> RESPONDA EL INCISO E AQUÍ </span>"
   ]
  },
  {
   "cell_type": "markdown",
   "metadata": {},
   "source": [
    "Tenemos que para que caso general multivariado, donde lo que queremos clasificar es un vector, la fórmula general para el discriminante es:\n",
    "$$\n",
    "g_{i}(x) = \\cfrac 12 (\\mathbf{x}-\\mu_{i})^{t}\\Sigma_{i}^{-1}(\\mathbf{x}-\\mu_{i}) -\\cfrac d2 ln(2\\pi) - ln|\\Sigma_{i}| + ln(P(w_{i}))\n",
    "$$\n",
    "Sin embargo, podemos omitir el termino $-\\cfrac d2 ln(2\\pi)$ al ser igual para todas las clases.."
   ]
  },
  {
   "cell_type": "code",
   "execution_count": 32,
   "metadata": {},
   "outputs": [],
   "source": [
    "class ClasificadorNormalesMulti():\n",
    "    def __init__(self,apriori):\n",
    "        self.mus_estimadas = []\n",
    "        self.vcovs_estimadas = []\n",
    "        self.P = apriori\n",
    "        \n",
    "    def fit(self,muestras):\n",
    "        # Los datos me vienen en un arreglo de muestras\n",
    "        # donde la muestra en la posición i-esima\n",
    "        # se corresponde a las muestras generadas con la\n",
    "        # normal i-esima\n",
    "        self.mus_estimadas = [np.mean(muestra,axis=0) for muestra in muestras]\n",
    "        self.vcovs_estimadas = [np.cov(muestra.T) for muestra in muestras]\n",
    "\n",
    "\n",
    "    def discriminante(self,x,mu,vcov,p):\n",
    "        vcov_inv = inv(vcov)\n",
    "        t1 = -0.5*np.dot(np.dot(x-mu,vcov_inv),x-mu)\n",
    "        t2 = -0*5*np.log(det(vcov))\n",
    "        w0 = np.log(p)\n",
    "        return t1+t2+w0\n",
    "    \n",
    "    def predict(self,x):\n",
    "        mus = self.mus_estimadas\n",
    "        sigmas = self.vcovs_estimadas\n",
    "        P = self.P\n",
    "        # Calculamos los discriminantes para cada cada una de las clases\n",
    "        # y devolvemos el máximo\n",
    "        discriminantes = np.array([self.discriminante(x,mu,sigma,p) for mu,sigma,p in zip(mus,sigmas,P)])\n",
    "        return np.argmax(discriminantes)        \n",
    "        \n",
    "    def error(self,test_data):\n",
    "        # test data es un arreglo de arreglos donde\n",
    "        # la primera posición corresponde a la primera clase,\n",
    "        # la segunda a la segunda y así\n",
    "        errors = []\n",
    "        for i in range(len(test_data)):\n",
    "            errors += [(self.predict(x) != i) for x in test_data[i]]\n",
    "        return np.mean(errors)"
   ]
  },
  {
   "cell_type": "code",
   "execution_count": 33,
   "metadata": {},
   "outputs": [],
   "source": [
    "from sklearn.model_selection import train_test_split\n",
    "# partimos en train y test\n",
    "n = 100\n",
    "errores_multi = []\n",
    "x1 = muestra(MU1,sigma,100)\n",
    "x2 = muestra(MU2,sigma,100)\n",
    "for i in range(n):\n",
    "    np.random.seed(i)\n",
    "    X1 = muestra(MU1,sigma,100)\n",
    "    X2 = muestra(MU2,sigma,100)\n",
    "    x1 = np.concatenate((x1,X1))\n",
    "    x2 = np.concatenate((x2,X2))\n",
    "    x1_train, x1_test,x2_train,x2_test = train_test_split(x1,x2,train_size = 0.8)\n",
    "    # entrenamos el clasificador con la media de la muestra\n",
    "    clasificador_multi = ClasificadorNormalesMulti([0.5,0.5])\n",
    "    clasificador_multi.fit([x1_train,x2_train])\n",
    "    errores_multi.append(clasificador_multi.error([x1_test,x2_test]))"
   ]
  },
  {
   "cell_type": "code",
   "execution_count": 34,
   "metadata": {},
   "outputs": [
    {
     "data": {
      "text/plain": [
       "<matplotlib.legend.Legend at 0x7fc6397b5390>"
      ]
     },
     "execution_count": 34,
     "metadata": {},
     "output_type": "execute_result"
    },
    {
     "data": {
      "image/png": "[encoded data removed]",
      "text/plain": [
       "<Figure size 432x288 with 1 Axes>"
      ]
     },
     "metadata": {
      "needs_background": "light"
     },
     "output_type": "display_data"
    }
   ],
   "source": [
    "bhattabound_multi = bhatta(np.array([0.5,0.5]),MU1,MU2,sigma,sigma,2)\n",
    "fig,ax = plt.subplots()\n",
    "plt.plot([bhattabound]*100,c='b',label='Cota de Bhattattarcharyya {:.2f}'.format(bhattabound))\n",
    "plt.plot([bhattabound_multi]*100,c='c',label='Cota de Bhattattarcharyya Multi{:.2f}'.format(bhattabound_multi))\n",
    "\n",
    "plt.plot(errores,c='r',label='Error empirico 1 variable')\n",
    "plt.plot(errores_multi,c='m',label='Error empirico multi')\n",
    "\n",
    "plt.legend(loc='best')"
   ]
  },
  {
   "cell_type": "markdown",
   "metadata": {},
   "source": [
    " <span style=\"color:red\"> RESPONDA EL INCISO F AQUÍ </span>"
   ]
  },
  {
   "cell_type": "markdown",
   "metadata": {},
   "source": [
    "# Ejercicio 6. \n",
    "\n",
    "Considere el problema de clasificacion bidimensional en cuatro categorias con \n",
    "$x|\\omega_1\\sim \\mathcal{N}(\\mathbf{0},\\mathbf{I})$, $x |\\omega_2\\sim \\mathcal{N}\\left(\\left(\\begin{array}{c}\n",
    " 1\\\\\n",
    " 1\\end{array}\\right),\\mathbf{I}\\right)$, $x |\\omega_3\\sim \\mathcal{N}\\left(\\left(\\begin{array}{c}\n",
    " 1\\\\\n",
    " -3\\end{array}\\right),\\left(\\begin{array}{cc}\n",
    " 2&0.5\\\\\n",
    " 0.5&2\\end{array}\\right)\\right)$ y $x |\\omega_4\\sim \\mathcal{N}\\left(\\left(\\begin{array}{c}\n",
    " 1\\\\\n",
    " 2\\end{array}\\right),\\left(\\begin{array}{cc}\n",
    " 5&4\\\\\n",
    " 4&5\\end{array}\\right)\\right)$ y $P (\\omega_i)=\\displaystyle\\frac14$ para todo i.\n",
    " \n",
    " * (a) ¿Cual es la distancia de Mahalanobis entre cada uno de los puntos $(1, 2)^T, (5, 3)^T, (0, 0)^T,\n",
    " (1, 0)^T$ y las medias de cada una de las clases.\n",
    " \n",
    "\n",
    "* (b) Clasificar estos puntos.\n",
    "\n",
    "* (c) Suponga que $P(\\omega_1)=0.7$ y $P(\\omega_2)=P(\\omega_3)=P(\\omega_4)=0.1$, y clasifique nuevamente los puntos."
   ]
  },
  {
   "cell_type": "markdown",
   "metadata": {},
   "source": [
    "\n",
    "Recuerde que como las clases son equiprobables, para clasificar los puntos se busca el máximo de los $g_i(x)$, con \n",
    "$$g_i(x) = -\\ln(\\det(\\Sigma_i)) -  (x-\\mu_i)'\\Sigma_i^{-1}(x-\\mu_i).$$\n"
   ]
  },
  {
   "cell_type": "markdown",
   "metadata": {},
   "source": [
    "# *Respuesta*"
   ]
  },
  {
   "cell_type": "markdown",
   "metadata": {},
   "source": [
    " <span style=\"color:red\"> RESPONDA EL INCISO A AQUÍ </span>  "
   ]
  },
  {
   "cell_type": "code",
   "execution_count": 2,
   "metadata": {},
   "outputs": [],
   "source": [
    "mu1 = np.array([0,0])\n",
    "vcov1 = np.identity(2)\n",
    "mu2 = np.array([1,1])\n",
    "vcov2 = np.identity(2)\n",
    "mu3 = np.array([1,-3])\n",
    "vcov3= np.array([[2,0.5],[0.5,2]])\n",
    "mu4 = np.array([1,2])\n",
    "vcov4 = np.array([[5,4],[4,5]])\n",
    "mus = [mu1,mu2,mu3,mu4]\n",
    "vcovs = [vcov1,vcov2,vcov3,vcov4]\n",
    "x1 = [1,2]\n",
    "x2 = [5,3]\n",
    "x3 = [0,0]\n",
    "x4 = [1,0]\n",
    "puntos = [x1,x2,x3,x4]"
   ]
  },
  {
   "cell_type": "code",
   "execution_count": 8,
   "metadata": {},
   "outputs": [
    {
     "name": "stdout",
     "output_type": "stream",
     "text": [
      "La distancia del punto x = [1, 2] a la media de cada una de las clases es:\n",
      "[2.23606797749979, 1.0, 3.651483716701107, 0.0]\n",
      "\n",
      "La distancia del punto x = [5, 3] a la media de cada una de las clases es:\n",
      "[5.830951894845301, 4.47213595499958, 4.618802153517006, 2.4267032964268394]\n",
      "\n",
      "La distancia del punto x = [0, 0] a la media de cada una de las clases es:\n",
      "[0.0, 1.4142135623730951, 2.4765567494675613, 1.0]\n",
      "\n",
      "La distancia del punto x = [1, 0] a la media de cada una de las clases es:\n",
      "[1.0, 1.0, 2.1908902300206647, 1.4907119849998598]\n",
      "\n"
     ]
    }
   ],
   "source": [
    "dist_mah = []\n",
    "for punto in puntos:\n",
    "    dist = [dm(punto,mu,sigma) for mu,sigma in zip(mus,vcovs)]\n",
    "    dist_mah.append(dist)\n",
    "    print(\"La distancia del punto x = {} a la media de cada una de las clases es:\".format(punto))\n",
    "    print(dist)\n",
    "    print()\n",
    "    "
   ]
  },
  {
   "cell_type": "markdown",
   "metadata": {},
   "source": [
    " <span style=\"color:red\"> RESPONDA EL INCISO B AQUÍ </span>  "
   ]
  },
  {
   "cell_type": "markdown",
   "metadata": {},
   "source": [
    "Ahora para saber los discriminantes, necesitamos saber los determinantes de cada una de las matrices de varianza-covarianza. Vamos a calcular esos determinantes y tomar la clase $i$ que tenga $g_{i}$ maximo en cada x. Como ya tenemos las distancias de mahalanobis a cada punto, solamente resta multiplicar cada uno de esos numeros por el determinante de la matriz de varianza/covarianza de cada $\\omega_{i}$ respectivamente"
   ]
  },
  {
   "cell_type": "code",
   "execution_count": 9,
   "metadata": {},
   "outputs": [],
   "source": [
    "dets = [np.linalg.det(vcov) for vcov in vcovs]"
   ]
  },
  {
   "cell_type": "code",
   "execution_count": 13,
   "metadata": {},
   "outputs": [
    {
     "name": "stdout",
     "output_type": "stream",
     "text": [
      "El punto [1, 2] corresponde a la clase w2\n",
      "El punto [5, 3] corresponde a la clase w2\n",
      "El punto [0, 0] corresponde a la clase w1\n",
      "El punto [1, 0] corresponde a la clase w1\n"
     ]
    }
   ],
   "source": [
    "discriminantes = []\n",
    "i = 0\n",
    "for dists in dist_mah:\n",
    "    discriminante_x = [-np.log(det)-dist for det,dist in zip(dets,dists)]\n",
    "    discriminantes.append(discriminante_x)\n",
    "    print(\"El punto {} corresponde a la clase w{}\".format(puntos[i],np.argmax(discriminante_x)+1))\n",
    "    i+=1"
   ]
  },
  {
   "cell_type": "markdown",
   "metadata": {},
   "source": [
    "Las clases son como se sigue:\n",
    "- x1: $\\omega_{2}$\n",
    "- x2: $\\omega_{2}$\n",
    "- x3: $\\omega_{1}$\n",
    "- x4: $\\omega_{1},\\omega_{2}$ ambas son igual de buenas/malas\n",
    "\n",
    "    "
   ]
  },
  {
   "cell_type": "markdown",
   "metadata": {},
   "source": [
    " <span style=\"color:red\"> RESPONDA EL INCISO C AQUÍ </span>  \n",
    "Para esta situación se tienen en cuenta además los pesos de cada clase. Luego se clasifica en la clase $i$ que maximiza $g_i$, con:\n",
    "$$g_i(x) = -\\frac 12 \\ln(\\Sigma_i) -\\frac 12 dM(x,\\mu_i) + \\ln P(\\omega_i).$$\n"
   ]
  },
  {
   "cell_type": "markdown",
   "metadata": {},
   "source": [
    "Ahora como ya tenemos calculada toda la primera parte en los respectivos arreglos, solamente debemos sumar los pesos."
   ]
  },
  {
   "cell_type": "code",
   "execution_count": 18,
   "metadata": {},
   "outputs": [
    {
     "name": "stdout",
     "output_type": "stream",
     "text": [
      "El punto [1, 2] pertenece a la clase 1\n",
      "El punto [5, 3] pertenece a la clase 1\n",
      "El punto [0, 0] pertenece a la clase 1\n",
      "El punto [1, 0] pertenece a la clase 1\n"
     ]
    }
   ],
   "source": [
    "w = [0.7,0.1,0.1,0.1]\n",
    "discriminantes_conapriori=[]\n",
    "i=0\n",
    "for disc in discriminantes:\n",
    "    disc_apriori = [-0.5*disci + np.log(wi) for disci,wi in zip(disc,w)]\n",
    "    discriminantes_conapriori.append(disc_apriori)\n",
    "    print(\"El punto {} pertenece a la clase {}\".format(puntos[i],np.argmax(disc_apriori)+1))\n",
    "    i+=1"
   ]
  },
  {
   "cell_type": "markdown",
   "metadata": {},
   "source": [
    "Lo cual tiene bastante sentido pues ln(0.1) es un numero que resta bante en el calculo de las g_i, y esta bien que así sea pues las clases que no son 1 tienen muy baja probabilidad de ocurrencia"
   ]
  },
  {
   "cell_type": "markdown",
   "metadata": {},
   "source": [
    "# Ejercicio 7. \n",
    "Suponiendo que $\\lambda_{21}>\\lambda_{11}$ y $\\lambda_{12}>\\lambda_{22}$, \n",
    "\n",
    "* a) mostrar que la funcion discriminante de riesgo minimo general para el caso binario independiente  esta\n",
    "dado por $$g(x)=w^Tx+\\omega_0$$, donde $w$ es constante, y\n",
    "$$\\omega_0=\\displaystyle\\sum_{i=1}^d\\ln\\displaystyle\\frac{1-p_i}{1-q_i}+\\ln\\displaystyle\\frac{P(\\omega_1)}{P(\\omega_2)}+\\ln\\displaystyle\\frac{\\lambda_{21}-\\lambda_{11}}{\\lambda_{12}-\\lambda_{22}}$$\n",
    "\n",
    "* b) Codifique esta función discriminante, diga qué valores debe tener de entrada para clasificar un nuevo dato. \n",
    "\n",
    "* c) Simule una muestra aleatoria de tamaño 100 de distribución binaria con probabilidades $p_i=0.3$ y $q_i=0.8$, y considere igual probabilidades a priori y pérdida cero uno. Clasifique esa muestra con la función anterior."
   ]
  },
  {
   "cell_type": "markdown",
   "metadata": {},
   "source": [
    " # *Respuesta*   <font color = 'RED'> estudiar esta respuesta </font>"
   ]
  },
  {
   "cell_type": "markdown",
   "metadata": {},
   "source": [
    "\n",
    " \n",
    " Tenemos que la función discriminante para cada clase está dada por:\n",
    "$$g_1(x) = - R(\\alpha_1|x) = -(\\lambda_{11}P(\\omega_1|x) + \\lambda_{12}P(\\omega_2|x))$$\n",
    "$$g_2(x) = - R(\\alpha_2|x) = -(\\lambda_{21}P(\\omega_1|x) + \\lambda_{22}P(\\omega_2|x))$$\n",
    "\n",
    "\n",
    "Dado que son dos clases, se puede considerar el discriminante $g(x) = g_1(x)-g_2(x)$ y clasificar en la clase $1$ si $g(x)>0$. Observamos entonces que:\n",
    "\n",
    "$$\n",
    "\\begin{eqnarray}\n",
    "g(x) &=& P(\\omega_1|x)\\cdot(\\lambda_{21}-\\lambda_{11}) + P(\\omega_2|x)\\cdot(\\lambda_{22}-\\lambda_{12}) \\\\\n",
    "     &=& \\frac{p(x | \\omega_1) P(\\omega_1)}{p(x)} \\cdot(\\lambda_{21}-\\lambda_{11}) + \\frac{p(x | \\omega_2)P(\\omega_2)}{p(x)}\\cdot(\\lambda_{22}-\\lambda_{12}) \\\\\n",
    "     &=& \\frac{p(x | \\omega_1) P(\\omega_1)}{p(x)} \\cdot(\\lambda_{21}-\\lambda_{11}) - \\frac{p(x | \\omega_2)P(\\omega_2)}{p(x)}\\cdot(\\lambda_{12}-\\lambda_{22}) \n",
    "\\end{eqnarray}\n",
    "$$ \n",
    "\n",
    "Así se clasifica en la clase 1 si $g(x)>0$, o lo que es lo mismo, si \n",
    "$$\\frac{p(x | \\omega_1) P(\\omega_1)\\cdot(\\lambda_{21}-\\lambda_{11}) } {p(x | \\omega_2)P(\\omega_2)\\cdot(\\lambda_{12}-\\lambda_{22}) } > 1 \\qquad (*)$$\n",
    "\n",
    "Tomando logaritmos, $(*)$ es equivalente a:\n",
    "$$\\ln\\frac{p(x | \\omega_1) }{p(x|\\omega_2} + \\ln \\frac{P(\\omega_1)}{P(\\omega_2)} + \\ln\\frac{\n",
    "\\lambda_{21}-\\lambda_{11}}{\\lambda_{22}-\\lambda_{12}}> 0. \\qquad (**)$$\n",
    "\n",
    "### <font color = green> Caso de variables binarias independientes </font>\n",
    "\n",
    "Si se trata de variables binarias, independientes, entonces tenemos\n",
    "$$x = (x_1,x_2,\\dots, x_d),\\qquad x_i = 0, 1,$$\n",
    "y \n",
    "$$p(x_i=1 | \\omega_j) = \\begin{cases} p_i & \\omega_j = \\omega_1 \\\\ q_i & \\omega_j = \\omega_2\n",
    "\\end{cases}$$\n",
    "\n",
    "Podemos escribir también:\n",
    "$$p(x_i | \\omega_j) = \\begin{cases} p_i^{x_i}(1-p_i)^{1-x_i} & \\omega_j = \\omega_1 \\\\\n",
    "q_i^{x_i}(1-q_i)^{1-x_i} & \\omega_j = \\omega_2\n",
    "\\end{cases}\n",
    "$$\n",
    "Como son independientes, entonces $p((x_1x_2\\dots x_d)|\\omega_j) = p(x_1|\\omega_j)p(x_2|\\omega_j)\\dots p(x_d|\\omega_j)$, para $j=1,2$.\n",
    "\n",
    "Ahora en la fórmula de $g(x)$ podemos eliminar el factor común $p(x)$ y tomar logaritmos. Así resulta que $(**)$ es equivalente a:\n",
    "\n",
    "$$ \\sum_{i=1}^d x_i \\ln\\frac{p_i}{q_i} + \\sum_{i=1}^d (1-x_i) \\ln\\frac{1-p_i}{1-q_i} + \\ln \\frac{P(\\omega_1)}{P(\\omega_2)} + \\ln\\frac{\n",
    "\\lambda_{21}-\\lambda_{11}}{\\lambda_{22}-\\lambda_{12}}> 0.$$\n",
    "Agrupando los $x_i$ resulta:\n",
    "$$\\underbrace{\\sum_i  \\left(\\ln\\frac{p_i}{q_i}-\\ln\\frac{1-p_i}{1-q_i}\\right)\\cdot x_i }_{w^T\\cdot x}+ \\underbrace{\\sum_{i=1}^d \\ln\\frac{1-p_i}{1-q_i} + \\ln \\frac{P(\\omega_1)}{P(\\omega_2)} + \\ln\\frac{\n",
    "\\lambda_{21}-\\lambda_{11}}{\\lambda_{22}-\\lambda_{12}}}_{w_0}> 0.$$"
   ]
  },
  {
   "cell_type": "markdown",
   "metadata": {},
   "source": [
    " <span style=\"color:red\"> RESPONDA EL INCISO B AQUÍ </span>  "
   ]
  },
  {
   "cell_type": "code",
   "execution_count": 23,
   "metadata": {},
   "outputs": [],
   "source": [
    "def discriminanteBinario(x,w1,w2,P1,P2,perdidas):\n",
    "    perdida = (perdidas[1][0]-perdidas[0][0])/(perdidas[0][1]-perdidas[1][1])\n",
    "    if(x==1):\n",
    "        p_x_w1 = w1\n",
    "        p_x_w2 = w2\n",
    "    else:\n",
    "        p_x_w1 = 1 - w1\n",
    "        p_x_w2 = 1 - w2\n",
    "    d = np.log(p_x_w1/p_x_w2) + np.log(P1/P2) + np.log(perdida)\n",
    "    if d > 0:\n",
    "        return 1\n",
    "    else:\n",
    "        return 2"
   ]
  },
  {
   "cell_type": "markdown",
   "metadata": {},
   "source": [
    " <span style=\"color:red\"> RESPONDA EL INCISO C AQUÍ </span>  "
   ]
  },
  {
   "cell_type": "code",
   "execution_count": 27,
   "metadata": {},
   "outputs": [],
   "source": [
    "import numpy as np\n",
    "np.random.seed(1234)\n",
    "p=0.3\n",
    "q=0.8\n",
    "perdidas = np.array([[0,1],[1,0]])\n",
    "x1 = np.random.binomial(1,p,50)\n",
    "x2 = np.random.binomial(1,q,50)\n",
    "predx1 = np.array([])\n",
    "predx2 = np.array([])\n",
    "\n",
    "for x in x1:\n",
    "    predx1 = np.append(predx1,discriminanteBinario(x,p,q,0.5,0.5,perdidas))\n",
    "for x in x2:\n",
    "    predx2 = np.append(predx2,discriminanteBinario(x,p,q,0.5,0.5,perdidas))"
   ]
  },
  {
   "cell_type": "code",
   "execution_count": 25,
   "metadata": {},
   "outputs": [
    {
     "data": {
      "text/plain": [
       "array([1., 1., 1., 2., 2., 1., 1., 2., 2., 2., 1., 1., 1., 2., 1., 1., 1.,\n",
       "       1., 2., 2., 1., 1., 1., 1., 2., 1., 1., 2., 1., 1., 2., 1., 2., 1.,\n",
       "       2., 2., 1., 2., 1., 2., 1., 1., 1., 1., 1., 1., 1., 1., 1., 1.])"
      ]
     },
     "execution_count": 25,
     "metadata": {},
     "output_type": "execute_result"
    }
   ],
   "source": [
    "predx1"
   ]
  },
  {
   "cell_type": "code",
   "execution_count": 26,
   "metadata": {},
   "outputs": [
    {
     "data": {
      "text/plain": [
       "array([2., 2., 2., 2., 2., 1., 2., 1., 1., 2., 2., 2., 2., 2., 2., 2., 2.,\n",
       "       1., 2., 2., 2., 2., 2., 2., 2., 1., 2., 2., 2., 2., 2., 2., 1., 2.,\n",
       "       2., 2., 2., 1., 2., 2., 2., 2., 2., 1., 2., 2., 2., 1., 2., 2.])"
      ]
     },
     "execution_count": 26,
     "metadata": {},
     "output_type": "execute_result"
    }
   ],
   "source": [
    "predx2"
   ]
  },
  {
   "cell_type": "markdown",
   "metadata": {},
   "source": [
    "La prediccion es un poco pava pues si es x = 0 lo asigna a w1, que es la clase con mayor probabilidad de 0, y si x=1 lo asigna a la clase w2"
   ]
  },
  {
   "cell_type": "markdown",
   "metadata": {},
   "source": [
    "Ahora vamos a hacer el mismo clasificador pero para vectores de caracteristicas."
   ]
  },
  {
   "cell_type": "code",
   "execution_count": 92,
   "metadata": {},
   "outputs": [],
   "source": [
    "def discriminanteBinarioMulti(x,p,q,P1,P2,perdidas):\n",
    "    # p, q son vectores, x es un vector de caracteristicas\n",
    "    perdida = (perdidas[1][0]-perdidas[0][0])/(perdidas[0][1]-perdidas[1][1])\n",
    "    w = np.log(p/q) - np.log((1-p)/(1-q))\n",
    "    wtx = np.dot(w.transpose(),x)\n",
    "    w0 = sum( np.log((1-pi)/(1-qi)) for pi,qi in zip(p,q)) + np.log(P1/P2) + np.log(perdida)\n",
    "    if wtx+w0 > 0:\n",
    "        return 1\n",
    "    else:\n",
    "        return 2"
   ]
  },
  {
   "cell_type": "code",
   "execution_count": 93,
   "metadata": {},
   "outputs": [],
   "source": [
    "p = 0.3\n",
    "q = 0.8\n",
    "x1_multi = [np.random.binomial(1,p,50) for _ in range(50)]\n",
    "x2_multi = [np.random.binomial(1,q,50) for _ in range(50)]"
   ]
  },
  {
   "cell_type": "code",
   "execution_count": 94,
   "metadata": {},
   "outputs": [],
   "source": [
    "p=np.array([0.3]*50)\n",
    "q=np.array([0.8]*50)\n",
    "perdidas = np.array([[0,1],[1,0]])\n",
    "predx1_multi = np.array([])\n",
    "predx2_multi = np.array([])\n",
    "for x in x1_multi:\n",
    "    predx1_multi = np.append(predx1_multi,discriminanteBinarioMulti(x,p,q,0.5,0.5,perdidas))\n",
    "for x in x2_multi:\n",
    "    predx2_multi = np.append(predx2_multi,discriminanteBinarioMulti(x,p,q,0.5,0.5,perdidas))"
   ]
  },
  {
   "cell_type": "code",
   "execution_count": 95,
   "metadata": {},
   "outputs": [
    {
     "data": {
      "text/plain": [
       "array([1., 1., 1., 1., 1., 1., 1., 1., 1., 1., 1., 1., 1., 1., 1., 1., 1.,\n",
       "       1., 1., 1., 1., 1., 1., 1., 1., 1., 1., 1., 1., 1., 1., 1., 1., 1.,\n",
       "       1., 1., 1., 1., 1., 1., 1., 1., 1., 1., 1., 1., 1., 1., 1., 1.])"
      ]
     },
     "execution_count": 95,
     "metadata": {},
     "output_type": "execute_result"
    }
   ],
   "source": [
    "predx1_multi"
   ]
  },
  {
   "cell_type": "code",
   "execution_count": 96,
   "metadata": {},
   "outputs": [
    {
     "data": {
      "text/plain": [
       "array([2., 2., 2., 2., 2., 2., 2., 2., 2., 2., 2., 2., 2., 2., 2., 2., 2.,\n",
       "       2., 2., 2., 2., 2., 2., 2., 2., 2., 2., 2., 2., 2., 2., 2., 2., 2.,\n",
       "       2., 2., 2., 2., 2., 2., 2., 2., 2., 2., 2., 2., 2., 2., 2., 2.])"
      ]
     },
     "execution_count": 96,
     "metadata": {},
     "output_type": "execute_result"
    }
   ],
   "source": [
    "predx2_multi"
   ]
  },
  {
   "cell_type": "markdown",
   "metadata": {},
   "source": [
    "Ahora el clasificador es un poco mas interesante pues realiza su clasificación sobre un vector de elementos, basandose en la cantidad de 0 y 1 de el vector. "
   ]
  },
  {
   "cell_type": "markdown",
   "metadata": {},
   "source": [
    "# Ejercicio 8. \n",
    "\n",
    "La distribucion de Poisson para una variable discreta $x = 0, 1, 2,\\ldots$ y parametro real $\\lambda$ es\n",
    "$$P(x|\\lambda)=e^{-\\lambda}\\displaystyle\\frac{\\lambda^x}{x!}$$\n",
    "\n",
    "Considere el problema de clasificacion en dos categorias igualmente probables con distribuciones de Poisson, pero con diferentes parametros $\\lambda_1>\\lambda_2$.\n",
    "\n",
    " * (a) ¿Cual es la regla de clasificacion de Bayes?\n",
    " \n",
    " * (b) ¿Cual es la tasa del error de Bayes?\n",
    " \n",
    "* (c) Codifique esta función discriminante, diga qué valores debe tener de entrada para clasificar un nuevo dato. \n",
    "\n",
    "* (d) Simule una muestra aleatoria de tamaño 100 de distribución de Poisson con $\\lambda_1=1.8$, $\\lambda_2=0.4$, y considere igual probabilidades a priori y pérdida cero uno. Clasifique esa muestra con la función anterior. Estime el Error cometido, y compárelo con el error de Bayes calculado. \n",
    "\n"
   ]
  },
  {
   "cell_type": "markdown",
   "metadata": {},
   "source": [
    "# *Respuesta*"
   ]
  },
  {
   "cell_type": "markdown",
   "metadata": {},
   "source": [
    " <span style=\"color:red\"> RESPONDA EL INCISO A AQUÍ </span>  "
   ]
  },
  {
   "cell_type": "markdown",
   "metadata": {},
   "source": [
    "La regla de clasificación de bayes es clasifico a x como $\\omega_{1}$ si $P(\\omega_{1}|x) > P(\\omega_{2}|x)$ o bien equivalentement $P(x|\\omega_{1})P(\\omega_{1})>P(x|\\omega_{2}P(\\omega_{2})$.\n",
    "Como $P(\\omega_{1})=P(\\omega_{2})$, vamos a clasificar a x como $\\omega_{1}$ si \n",
    "$$\n",
    "\\cfrac{P(x|\\omega_{1})}{P(x|\\omega_{2})} > 1\n",
    "$$\n",
    "En nuestro caso particular con distribuciones de Poisson:\n",
    "$$\n",
    "\\cfrac{P(x|\\omega_{1})}{P(x|\\omega_{2})} = \\cfrac{e^{-\\lambda_{1}}\\lambda_{1}^{x}x!}{e^{-\\lambda_{2}}\\lambda_{2}^{x}x!} = e^{\\lambda_{2}-\\lambda_{1}} \\left(\\cfrac{\\lambda_{1}}{\\lambda_{2}}\\right)^{x}\n",
    "$$\n",
    "Luego, clasificamos a $x$ como $\\omega_{1}$ si \n",
    "$$\n",
    "e^{\\lambda_{2}-\\lambda_{1}} \\left(\\cfrac{\\lambda_{1}}{\\lambda_{2}}\\right)^{x} > 1\n",
    "$$\n",
    "y sino lo clasificamos como $\\omega_{2}$.\n",
    "\n",
    "Empleando riesgos, la ecuación nos queda que clasificamos a $x$ como $\\omega_{1}$ si \n",
    "$$\n",
    "e^{\\lambda_{2}-\\lambda_{1}} \\left(\\cfrac{\\lambda_{1}}{\\lambda_{2}}\\right)^{x} > \\cfrac{\\lambda_{12}-\\lambda_{22}}{\\lambda_{21}-\\lambda_{11}}\n",
    "$$"
   ]
  },
  {
   "cell_type": "markdown",
   "metadata": {},
   "source": [
    "<span style=\"color:red\"> RESPONDA EL INCISO B AQUÍ </span>  "
   ]
  },
  {
   "cell_type": "markdown",
   "metadata": {},
   "source": [
    "El error condicional de bayes está dado por:\n",
    "$$\n",
    "P(error|x) = min \\left[P(x|\\omega_{1})P(\\omega_{1}),P(x|\\omega_{2}P(\\omega_{2}))\\right] = min \\left[e^{-\\lambda_{1}}\\displaystyle\\frac{\\lambda_{1}^x}{x!}P(\\omega_{1}),e^{-\\lambda_{2}}\\displaystyle\\frac{\\lambda_{2}^x}{x!}P(\\omega_{2})\\right]\n",
    "$$\n",
    "Como vimos, para el caso continuo, dadas regiones de clasificación $R_{1},R_{2}$, tenemos que \n",
    "$$\n",
    "P(error)= \\int_{R_{2}} P(x|\\omega_{1})P(\\omega_{1})dx + \\int_{R_{1}} P(x|\\omega_{2})P(\\omega_{2})dx\n",
    "$$\n",
    "Para el caso discreto con densidades de Poisson, esto nos queda:\n",
    "$$\n",
    "P(error) = 0.5 \\sum_{i=0}^{x^{\\ast}} e^{\\lambda_{2}}\\cfrac{\\lambda_{2}^{i}}{i!} + 0.5\\sum_{i=x^{\\ast}}^{\\infty} e^{\\lambda_{1}}\\cfrac{\\lambda_{1}^{i}}{i!} \n",
    "$$\n",
    "Donde $x^{\\ast}$ es el limite de la region de clasificación."
   ]
  },
  {
   "cell_type": "markdown",
   "metadata": {},
   "source": [
    "Vamos a despejar un poco más las regiones de clasificación respecto de x aplicando logaritmos\n",
    "\n",
    "$$\n",
    "\\begin{equation*}\n",
    "e^{\\lambda_{2}-\\lambda_{1}} \\left(\\cfrac{\\lambda_{1}}{\\lambda_{2}}\\right)^{x} > \\cfrac{P(\\omega_{1})}{P(\\omega_{2})}) = 1 \\\\\n",
    "\\iff \\\\\n",
    "x(ln(\\lambda_{1}-ln(\\lambda_{2}))-\\lambda_{1}+\\lambda_{2} > ln(1) = 0 \\\\\n",
    "\\iff \\\\\n",
    "x(ln\\lambda_{1}-ln\\lambda_{2}) > \\lambda_{1}-\\lambda_{2}\\\\\n",
    "\\iff \\\\\n",
    "x > \\cfrac{\\lambda_{1}-\\lambda_{2}}{ln\\lambda_{1}-ln\\lambda_{2}}\n",
    "\\end{equation*}\n",
    "$$"
   ]
  },
  {
   "cell_type": "markdown",
   "metadata": {},
   "source": [
    "#### Luego, tenemos que:  \n",
    "$$\n",
    "x^{\\ast} = \\cfrac{\\lambda_{1}-\\lambda_{2}}{ln\\lambda_{1}-ln\\lambda_{2}}\n",
    "$$"
   ]
  },
  {
   "cell_type": "markdown",
   "metadata": {},
   "source": [
    "<span style=\"color:red\"> RESPONDA EL INCISO C AQUÍ </span>  "
   ]
  },
  {
   "cell_type": "code",
   "execution_count": 16,
   "metadata": {},
   "outputs": [],
   "source": [
    "def discriminantePoisson(x,lamda1,lamda2,perdidas):\n",
    "    perdida = (perdidas[1][0]-perdidas[0][0])/(perdidas[0][1]-perdidas[1][1])\n",
    "    if x > (lamda1-lamda2)/(np.log(lamda1)-np.log(lamda2)):\n",
    "        return 1\n",
    "    else:\n",
    "        return 2"
   ]
  },
  {
   "cell_type": "markdown",
   "metadata": {},
   "source": [
    " <span style=\"color:red\"> RESPONDA EL INCISO D AQUÍ </span>  "
   ]
  },
  {
   "cell_type": "code",
   "execution_count": 17,
   "metadata": {},
   "outputs": [
    {
     "data": {
      "text/plain": [
       "<matplotlib.collections.PolyCollection at 0x7f2f18df0150>"
      ]
     },
     "execution_count": 17,
     "metadata": {},
     "output_type": "execute_result"
    },
    {
     "data": {
      "image/png": "[encoded data removed]",
      "text/plain": [
       "<Figure size 432x288 with 1 Axes>"
      ]
     },
     "metadata": {
      "needs_background": "light"
     },
     "output_type": "display_data"
    }
   ],
   "source": [
    "import numpy as np\n",
    "from scipy.stats import poisson\n",
    "from math import e\n",
    "lamda1 = 1.8\n",
    "lamda2 = 0.4\n",
    "f = lambda x: (e**(lamda2-lamda1))*((lamda1/lamda2)**x)\n",
    "x = np.linspace(0,15,16)\n",
    "f1 = f(x)\n",
    "plt.plot(x,poisson.pmf(x,lamda1),marker='o')\n",
    "plt.plot(x,poisson.pmf(x,lamda2),marker='o')\n",
    "plt.fill_between(x,0,f1,where = (f1 < 1),label='Clase 1')\n"
   ]
  },
  {
   "cell_type": "code",
   "execution_count": 28,
   "metadata": {},
   "outputs": [],
   "source": [
    "np.random.seed(1234)\n",
    "n = 1000\n",
    "X1 = np.random.poisson(lamda1,n)\n",
    "X2 = np.random.poisson(lamda2,n)\n",
    "perdidas = np.array([[0,1],[1,0]])\n",
    "clasX1 = ([discriminantePoisson(x,lamda1,lamda2,perdidas) for x in X1])\n",
    "clasX2 = ([discriminantePoisson(x,lamda1,lamda2,perdidas) for x in X2])"
   ]
  },
  {
   "cell_type": "code",
   "execution_count": 29,
   "metadata": {},
   "outputs": [
    {
     "data": {
      "text/plain": [
       "0.2545"
      ]
     },
     "execution_count": 29,
     "metadata": {},
     "output_type": "execute_result"
    }
   ],
   "source": [
    "error_estimado = (sum(clas != 1 for clas in clasX1) + sum(clas != 2 for clas in clasX2))/(2*n)\n",
    "error_estimado"
   ]
  },
  {
   "cell_type": "markdown",
   "metadata": {},
   "source": [
    "Calculemos el error de bayes para $\\lambda_{1} = 1.8,\\lambda_{2}=0.4$  \n",
    "- $x \\in \\omega_{1}$ sii:\n",
    "$$\n",
    "x > \\cfrac{1.8-0.4}{ln(1.8)-ln(0.4)} = 0.93\n",
    "$$\n",
    "Cuya parte entera es 0, pero como esta mas cerca de 1 lo aproximamos por 1\n",
    "\n",
    "\n",
    "Entonces el error nos queda:\n",
    "$$\n",
    "\\begin{equation*}\n",
    "\\begin{split}\n",
    "P(error) &= 0.5(\\sum_{i=0}^{1} e^{-\\lambda_{1}}\\cfrac{\\lambda_{1}^{i}}{i!}) + 0.5(\\sum_{i=1}^{\\infty} e^{-\\lambda_{2}}\\cfrac{\\lambda_{2}^{i}}{i!})\\\\\n",
    "&=0.5*0.46 + 0.5*0.33\\\\\n",
    "&=0.23 + 0.16 \\\\\n",
    "&=0.395\n",
    "\\end{split}\n",
    "\\end{equation*}\n",
    "$$\n",
    "\n",
    "\n"
   ]
  },
  {
   "cell_type": "code",
   "execution_count": null,
   "metadata": {},
   "outputs": [],
   "source": [
    "$$"
   ]
  }
 ],
 "metadata": {
  "anaconda-cloud": {},
  "kernelspec": {
   "display_name": "Python 3",
   "language": "python",
   "name": "python3"
  },
  "language_info": {
   "codemirror_mode": {
    "name": "ipython",
    "version": 3
   },
   "file_extension": ".py",
   "mimetype": "text/x-python",
   "name": "python",
   "nbconvert_exporter": "python",
   "pygments_lexer": "ipython3",
   "version": "3.7.6"
  },
  "toc-autonumbering": false
 },
 "nbformat": 4,
 "nbformat_minor": 4
}
