{
 "cells": [
  {
   "cell_type": "markdown",
   "metadata": {},
   "source": [
    "<center>\n",
    "<img src=\"../images/ods_stickers.jpg\" />\n",
    "    \n",
    "# Introducción al Machine Learning 2020\n",
    "\n",
    "Basado en material de  Prof. M. Riedmiller y Manuel Blum Traducido y editado al español por [Ana Georgina Flesia](https://www.linkedin.com/in/georginaflesia/). Este material esta sujeto a los términos y condiciones de la licencia  [Creative Commons CC BY-NC-SA 4.0](https://creativecommons.org/licenses/by-nc-sa/4.0/). Se permite el uso irrestricto para todo propósito no comercial."
   ]
  },
  {
   "cell_type": "markdown",
   "metadata": {},
   "source": [
    "### Ejercicio 1: Version Spaces and Conjunctive Hypotheses\n",
    "\n",
    "### (a) Qué son los elementos de un espacio de versión? Cómo están ordenados? Qué se puede decir sobre la definición y el tamaño de  S and G?"
   ]
  },
  {
   "cell_type": "markdown",
   "metadata": {},
   "source": [
    "Los elementos de un espacio de versiones son todas las hipotesis consistentes con toda la muestra, no solamente las positivas.  Vamos a decir que una hipotesis h es consistente con con un conjunto de entrenamiento D si y solo sí h(x) = c(x) para cada x en D, donde c(x) es la clase de x.\n",
    "Las hipotesis en el espacio de versiones están ordenadas por especificidad, donde definimos la relacion \"es mas general que\" de la siguiente forma:\n",
    "*Una hipotesis h es mas general que una hipotesis k si y solo si h(x) = 1 implica k(x) = 1*. Está claro que esto es un orden parcial sobre el conjunto de hipotesis y no total.\n",
    "Lo que me gustaria en cuestion de tamaño es que S = G y ambos tengan 1 elemento.\n",
    "Algo quizas interesante de mencionar, es que las instancias positivas generalizan S, y las instancias negativas especifican G. \n"
   ]
  },
  {
   "cell_type": "markdown",
   "metadata": {},
   "source": [
    "### (b) A continuación, se desea describir si una persona está enferma.  Usamos una representación basada en restricciones conjuntivas (tres por sujeto) para describir a una persona individual. Estas restricciones son \"moco\", \"tos\" y \"piel enrojecida\", cada una de las cuales puede tomar el valor verdadero (‘+’) o falso (‘-’). Decimos que alguien está enfermo, si está tosiendo y tiene la nariz con moco. Cada síntoma individualmente no significa que la persona esté enferma. Especifique el espacio de hipótesis que gestiona el enfoque de espacio de versiones. Para hacerlo, organice todas las hipótesis en una estructura gráfica utilizando la relación \"más específica que\"."
   ]
  },
  {
   "cell_type": "markdown",
   "metadata": {},
   "source": [
    "Este seria el orden si intentamos hacer el espacio de versiones con la clasificacion que dice la consigna"
   ]
  },
  {
   "cell_type": "markdown",
   "metadata": {},
   "source": [
    "<center>\n",
    "<img src=\"espacioversion1.jpeg\" />\n"
   ]
  },
  {
   "cell_type": "markdown",
   "metadata": {},
   "source": [
    "Este seria el espacio TOTAL de hipotesis ordenadas"
   ]
  },
  {
   "cell_type": "markdown",
   "metadata": {},
   "source": [
    "<center>\n",
    "<img src=\"mapaversionesColor.jpeg\" />\n"
   ]
  },
  {
   "cell_type": "markdown",
   "metadata": {},
   "source": [
    "Si bien las flechas quedaron muy mal, los colores nos indican las relaciones entre hipotesis. Básicamente si comparten color, estan relacionadas. Es decir, las hipotesis mas general de todas < ? , ? , ? > esta relacionada con todas las otras hipotesis. Luego, en el primer nivel tenemos la minima especificacion de esa hipotesis.  \n",
    "\n",
    "\n",
    "En el segundo nivel, podemos ver que las hipotesis tienen 2 colores. Esas hipotesis son mas especificas que las hipotesis de los colores con los que estan coloreadas. Por ejemplo:  \n",
    "**< - , ? , - >** (coloreada con rojo y amarillo) es más especifica que:\n",
    "- < ? , ? , - > (rojo)\n",
    "- < - , ? , ? > (amarillo).  \n",
    "\n",
    "En el tercer nivel, podemos ver que las hipotesis tienen 3 colores. Esto las relaciona con 3 hipotesis del primer nivel y con 3 hipotesis del segundo nivel. Por ejemplo:  \n",
    "**< - , - , - >** (rojo, amarillo y rosa) es más especifica que:\n",
    "- < - , ? , ? > (amarillo)\n",
    "- < ? , - , ? > (rosa)\n",
    "- < ? , ? , - > (rojo)\n",
    "- < - , - , ? > (amarillo y rosa)\n",
    "- < - , ? , - > (amarillo y rojo)\n",
    "- < ? , - , - > (rosa y rojo)\n"
   ]
  },
  {
   "cell_type": "markdown",
   "metadata": {},
   "source": [
    "\n",
    "### c) Aplique el algoritmo de eliminación de candidatos (CE) a la secuencia de ejemplos de entrenamiento especificados en la Tabla  y nombre los contenidos de los conjuntos S y G después de cada paso.\n",
    "\n",
    "\n",
    "     |  Ejemplo | Moco  | Tos| Piel enrojecida | Clasificación     | \n",
    "    -----------------------------------------------------------\n",
    "     |   d1     |   +   |  + |         +       | positivo (enfermo)|\n",
    "     |   d2     |   +   |  + |         -       | positivo (enfermo)|\n",
    "     |   d3     |   +   |  - |         +       | negativo (sano)   |\n",
    "     |   d4     |   -   |  + |         +       | negativo (sano)   |\n",
    "     |   d5     |   -   |  - |         +       | negativo (sano)   |\n",
    "     |   d6     |   -   |  - |         -       | negativo (sano)   |\n"
   ]
  },
  {
   "cell_type": "markdown",
   "metadata": {},
   "source": [
    "**Paso 0 :**  \n",
    "- S0 = < ø , ø , ø >\n",
    "- G0 = <'? , ? , ? >   \n",
    "\n",
    "\n",
    "**Paso 1:**  \n",
    "Tenemos d1 un ejemplo positivo -> vamos a eliminar de G cualquier hipotesis no consistente y vamos a generalizar S\n",
    "- S1 = < + , + , + >\n",
    "- G1 = <'? , ? , ? >  \n",
    "\n",
    "\n",
    "**Paso 2:**  \n",
    "De nuevo tenemos un ejemplo positivo por lo cual realizamos lo mismo. Generalizamos S y vemos si hay algo inconsistente en G  \n",
    "- S2 = < + , + , ? >\n",
    "- G2 = <'? , ? , ? >  \n",
    "\n",
    "\n",
    "**Paso 3:**  \n",
    "Ahora tenemos un ejemplo negativo d3. En este caso tenemos que remover de S hipotesis inconsistentes con d3 y para cada hipotesis en G que no sea consitente con d3 tenemos que agregar hipotesis mas generales.\n",
    "- S3 = < + , + , ? > (No es inconsistente con d3 pues lo clasifica como negativo)\n",
    "- G3 = { < ? , + , ? > } Tenemos que especificarla lo minimo posible para que no clasifique a d3 como positivo  \n",
    "Ahora G3 es consistente con d3, pues clasifica como negativa.    \n",
    "\n",
    "\n",
    "**Paso 4:**  \n",
    "De nuevo un ejemplo negativo. Realizamos los mismos pasos, y observamos que si bien S es consistente con d4, G no. Luego, eliminamos las hipotesis no consistentes y agregamos una especializacion minimal tal que sea consistente con d4.  \n",
    "- S4 = < + , + , ? > (No es inconsistente con d3 pues lo clasifica como negativo)\n",
    "- G4 = { < + , + , ? > } Tenemos que especificarla lo minimo posible para que no clasifique a d4 como positivo   \n",
    "Acá no estoy muy segura si es así. Entiendo que si en lugar de hacer esto agrego < + , ? , ? > no sirve, porque < ? , + , ? > Sigue clasificando a d4 mal, es decir, es inconsistente con la muestra. Me parece que segun el algoritmo lo unico con sentido es hacer mas especifica la hipotesis.\n",
    "\n",
    "Si esto es así, en este punto ya sabemos que hemos aprendido el concepto pues S = G.\n",
    "Igualmente vamos a seguir corriendo el algoritmo\n",
    "\n",
    "**Como S = G hemos encontrado una hipotesis que es consistente con la muestra.** "
   ]
  },
  {
   "cell_type": "markdown",
   "metadata": {},
   "source": [
    "### d) Considera Ud que el órden de ingreso de los datos de la tabla afecta el aprendizaje de la hipótesis de salida? "
   ]
  },
  {
   "cell_type": "markdown",
   "metadata": {},
   "source": [
    "No afecta el resultado final, es decir, esta tecnica de aprendizaje es independiente del orden de presentación de las instancias. Es facil ver eso pues al final del algoritmo llegamos a hipotesis consistente con toda la muestra, pero Sí afecta la cantidad de pasos en la cual se puede converger.  \n",
    "Es decir, los pasos intermedios evidentemente se ven modificados pero el resultado final no"
   ]
  },
  {
   "cell_type": "markdown",
   "metadata": {},
   "source": [
    "### e) Supongamos un dominio con dos atributos, es decir, cualquier instancia se describe mediante dos restricciones. ¿Cuántos ejemplos de entrenamiento positivo y negativo son mínimamente requeridos por el algoritmo de eliminación de candidatos para aprender un concepto arbitrario?"
   ]
  },
  {
   "cell_type": "markdown",
   "metadata": {},
   "source": [
    "#### Asumiendo que queremos aprender un concepto que se encuentra en la muestra, con 1 de cada uno debería bastar, veamos por qué:\n",
    "Todas las instancias posibles son\n",
    "\n",
    "\n",
    "| Var 1 | Var 0 |\n",
    "| ----- | ----- |\n",
    "| 0     | 0     |\n",
    "| 0     | 1     |\n",
    "| 1     | 0     |\n",
    "| 1     | 1     |\n",
    "\n",
    "Pero si agregamos la opción de si son clasificadas positivas o negativas, obtenemos 8 posibles instancias.\n",
    "\n",
    "| Var 1 | Var 0 | Clase |\n",
    "| ----- | ----- | ----- |\n",
    "| 0     | 0     | 0     |\n",
    "| 0     | 0     | 1     |\n",
    "| 0     | 1     | 0     |\n",
    "| 0     | 1     | 1     |\n",
    "| 1     | 0     | 0     |\n",
    "| 1     | 0     | 1     |\n",
    "| 1     | 1     | 0     |\n",
    "| 1     | 1     | 1     |\n",
    "\n",
    "Pero en realidadno no son 8 porque si vemos bien para cada instancia esta clasificada de dos formas distintas (lo cual si bien puede pasar, si eso sucede entendemos que hay ruido o algun error), entonces en realidad tenemos que elegir para cada instancia posible 1 clase.   \n",
    "Si hacemos eso, deberiamos elegir 1 de cada dos posibles clases, lo cual resulta en 2 * 2 * 2 * 2 = 16 posibles conjuntos de datos, cada uno con 4 datos cada uno. \n",
    "Ahora bien, de esos 16 posibles datasets tenemos las siguientes posibilidades para la conformación de la clase positiva:\n",
    "- a) solo 1 caso positivo, 3 negativos (y viceversa, da lo mismo cual elijamos como positiva o negativa).\n",
    "- b) 2 ejemplos positivos y dos negativos.\n",
    "- c) todos positivos o todos negativos.\n",
    "\n",
    "### Caso a. Un solo caso positivo, el resto negativo  \n",
    "En este caso el concepto que queremos aprender sería exactamente el caso positivo. Veamos los distintos conceptos posibles:\n",
    "- (a,a):\n",
    "    - 1 ejemplo positivo, 1 negativo:\n",
    "        - (a,a) positivo, (b,b) negativo: si este es el caso, nuestro algoritmo va a aprender S = (a,a),\n",
    "           G = {(a,?), (?,a)} y termina, osea no aprende la hipotesis.\n",
    "        - (a,a) positivo, (a,b) negativo: en este caso nuestro algoritmo aprende S = (a,a), G = (?,a) y                tampoco aprende el concepto\n",
    "    - 1 ejemplo positivo, 2 negativos:\n",
    "        - (a,a) positivo, (b,b) (a,b) negativos: en este caso nuestro algoritmo aprende S = (a,a)\n",
    "          G = (?,a) es decir tampoco aprende la hipotesis\n",
    "- (a,b) o (b,a): \n",
    "    - 1 ejemplo positivo, 1 negativo:\n",
    "        - (a,b) positivo, (a,a) negativo: si este es el caso, nuestro algoritmo va a aprender S = (a,b),\n",
    "           G = {(b,?), (?,b)} y termina, osea no aprende la hipotesis.\n",
    "        - (a,b) positivo, (b,a) negativo: en este caso nuestro algoritmo aprende S = (a,b), G = (a,?) y                tampoco aprende el concepto\n",
    "    - 1 ejemplo positivo, 2 negativos:\n",
    "        - (a,a) positivo, (b,b) (a,b) negativos: en este caso nuestro algoritmo aprende S = (a,a)\n",
    "          G = (?,a) es decir tampoco aprende la hipotesis\n",
    "\n",
    "\n",
    "Llegue hastá acá medio por falta de tiempo y por no saber si mi razonamiento estaba en lo correcto, pero mi conclusión es que depende muchisimo del concepto a aprender. Incluso habiendo poquisimos casos."
   ]
  },
  {
   "cell_type": "markdown",
   "metadata": {},
   "source": [
    "### f) Ahora estamos ampliando el número de restricciones utilizadas para describir instancias de entrenamiento con  una restricción adicional llamada \"fiebre\". Decimos que alguien está enfermo, si tiene moco y está tosiendo (como lo hicimos antes), o si tiene fiebre. ¿Cómo funciona el enfoque del espacio de versiones usando el algoritmo CE ahora, dados las instancias nuevas? Qué sucede si el orden de presentación de las instancias se altera?\n",
    "\n",
    "     |  Ejemplo | Moco  | Tos| Piel enrojecida | Fiebre | Clasificación     | \n",
    "    -----------------------------------------------------------\n",
    "     |   d1     |   +   |  + |         +       |    -   | positivo (enfermo)|\n",
    "     |   d2     |   +   |  + |         -       |    -   | positivo (enfermo)|\n",
    "     |   d3     |   +   |  - |         +       |    +   | positivo (enfermo)|\n",
    "     |   d4     |   -   |  + |         +       |    -   | negativo (sano)   |\n",
    "     |   d5     |   -   |  - |         +       |    -   | negativo (sano)   |\n",
    "     |   d6     |   -   |  - |         -       |    -   | negativo (sano)   |"
   ]
  },
  {
   "cell_type": "markdown",
   "metadata": {},
   "source": [
    "Paso 0, 1, 2 se mantienen iguales, pero agregando la variable fiebre.\n",
    "Como fiebre en ambos está negativa, no generaliza nada ahí.\n",
    "- S2 = < + , + , ?, - >\n",
    "- G2 = <'? , ? , ?, ? >  \n",
    "\n",
    "\n",
    "**Paso 3:**  \n",
    "Ahora tenemos un ejemplo positivo d3. Vamos a eliminar de G cualquier hipotesis no consistente y vamos a generalizar S\n",
    "- S3 = < + , ? , ? , ? > Generalizamos S pues era inconsistente con d3. Ahora es consistente con d1,d2,d3\n",
    "- G3 = < ? , ? , ? , ? >  \n",
    "\n",
    "\n",
    "**Paso 4:**  \n",
    "Ahora tenemos un ejemplo negativo d4. En este caso tenemos que remover de S hipotesis inconsistentes con d4 y para cada hipotesis en G que no sea consistente con d4 tenemos que agregar hipotesis menos generales.\n",
    "- S4 = < + , ? , ? , ? > (No es inconsistente con d4 pues lo clasifica como negativo)\n",
    "- G4 = { < + , ? , ? , ? > , < ? , ? , ? , + > } Tenemos que especificarla lo minimo posible para que no clasifique a d4 como positivo  \n",
    "Ahora G4 es consistente con d4, pues clasifica como negativa.    \n",
    "\n",
    "\n",
    "**Paso 5:**  \n",
    "De nuevo un ejemplo negativo. Eliminamos de S hipotesis inconsistentes con d5 y para cada hipotesis en G que no sea consistente con d5 tenemos que \n",
    "- S5 = < + , ? , ? , ? > (No es inconsistente con d5 pues lo clasifica como negativo)\n",
    "- G5 = { < + , ? , ? , ? > , < ? , ? , ? , + > }   \n",
    "Como podemos ver hay varias hipotesis minimales que logran clasificar a d5 como negativa. Agregamos ambas.\n",
    "\n",
    "Luego de este paso nada cambia pues G5 es consistente con la muestra, es decir: de los ejemplos que restan que son todos negativos, no va a clasificar a ninguno como positivo. Y S5 tampoco.\n",
    "Podemos ver que como S != G, hemos aprendido el concepto PARCIALMENTE, lo cual es cierto, porque si viene alguien solamente con moco nuestras hipotesis van a clasificarlo como positivo cuando en realidad deberia ser negativo"
   ]
  },
  {
   "cell_type": "markdown",
   "metadata": {},
   "source": [
    "     |  Ejemplo | Moco  | Tos| Piel enrojecida | Fiebre | Clasificación     | \n",
    "    -----------------------------------------------------------\n",
    "     |   d1     |   +   |  + |         +       |    -   | positivo (enfermo)|\n",
    "     |   d2     |   +   |  + |         -       |    -   | positivo (enfermo)|\n",
    "     |   d3     |   -   |  - |         +       |    +   | positivo (enfermo)|\n",
    "     |   d4     |   +   |  - |         -       |    -   | negativo (sano)   |\n",
    "     |   d5     |   -   |  - |         -       |    -   | negativo (sano)   |\n",
    "     |   d6     |   -   |  + |         -       |    -   | negativo (sano)   |\n",
    "     "
   ]
  },
  {
   "cell_type": "markdown",
   "metadata": {},
   "source": [
    "Paso 0, 1, 2 se mantienen iguales que en el ejemplo anterior.  \n",
    "Como fiebre en ambos está negativa, no generaliza nada ahí.\n",
    "- S2 = < + , + , ?, - >\n",
    "- G2 = < ? , ? , ?, ? >  \n",
    "\n",
    "\n",
    "**Paso 3:**  \n",
    "Ahora tenemos un ejemplo positivo d3. Vamos a eliminar de G cualquier hipotesis no consistente y vamos a generalizar S\n",
    "- S3 = < ? , ? , ? , ? > Generalizamos S pues era inconsistente con d3. Ahora es consistente con d1,d2,d3\n",
    "- G3 = < ? , ? , ? , ? >  \n",
    "\n",
    "Bueno esto ya convergio peroo no nos sirve de absolutamente nada.\n",
    "\n",
    "\n",
    "**Paso 4:**  \n",
    "Ahora tenemos un ejemplo negativo d4. En este caso tenemos que remover de S hipotesis inconsistentes con d4 y para cada hipotesis en G que no sea consistente con d4 tenemos que agregar hipotesis menos generales.\n",
    "En este momento deberiamos dejar como vacio G3 pues como la cota de especificidad impuesta por S3 es demasiado general, solo me queda la opcion de eliminar y llegar a vacío"
   ]
  },
  {
   "cell_type": "markdown",
   "metadata": {},
   "source": [
    "### g)  Para ejemplificar aún más el algoritmo, encuentre el concepto que define un objeto en este dataset \n",
    "\n",
    "    +-------+-------+----------+-------------+\n",
    "    | Size  | Color | Shape    | Class/Label |\n",
    "    +=======+=======+==========+=============+\n",
    "    | big   | red   | circle   | No          |\n",
    "    | small | red   | triangle | No          |\n",
    "    | small | red   | circle   | Yes         |\n",
    "    | big   | blue  | circle   | No          |\n",
    "    | small | blue  | circle   | Yes         |\n",
    "    +-------+-------+----------+-------------+\n"
   ]
  },
  {
   "cell_type": "markdown",
   "metadata": {},
   "source": [
    "S0 = < ø , ø , ø >    \n",
    "G0 = <'? , ? , ? >\n",
    "\n",
    "**Paso 1**  \n",
    "No hay nada inconsistente en S, pero debemos especificar G para que no clasifique como positivo a nuestro ejemplo  \n",
    "S1 = < ø , ø , ø >    \n",
    "G1 = < small , ? , ? > < ? , blue , ? > < ? , ? , triangle > \n",
    "\n",
    "**Paso 2**  \n",
    "De nuevo no hay nada inconsistente en S, pero debemos especificar G.  \n",
    "S2 = < ø , ø , ø >  \n",
    "G2 = { < small , ?  , circle > , <small , blue , ? > , < big , blue , ? > , < big , ? , triangle > } \n",
    "\n",
    "**Paso 3**  \n",
    "Tenemos que sacar algunas hipotesis de G2 que no son consistentes con nuestro ejemplo positivo. Y generalizar S.  \n",
    "S3 = < small , red , circle >  \n",
    "G3 = < small , ? , circle >\n",
    "\n",
    "**Paso 4**  \n",
    "La hipotesis de S no es inconsistente con nuestro ejemplo, y la de G tampoco, luego se mantiene todo como está  \n",
    "S4 = S3\n",
    "G4 = G3\n",
    "\n",
    "**Paso 5**  \n",
    "Ahora con el ultimo negativo, vemos qeue tenemos que generalizar S, y finalmente nuestras hipotesis convergen  \n",
    "S3 = < small , ? , circle >  \n",
    "G3 = < small , ? , circle >\n"
   ]
  }
 ],
 "metadata": {
  "kernelspec": {
   "display_name": "Python 3",
   "language": "python",
   "name": "python3"
  },
  "language_info": {
   "codemirror_mode": {
    "name": "ipython",
    "version": 3
   },
   "file_extension": ".py",
   "mimetype": "text/x-python",
   "name": "python",
   "nbconvert_exporter": "python",
   "pygments_lexer": "ipython3",
   "version": "3.7.6"
  }
 },
 "nbformat": 4,
 "nbformat_minor": 4
}
