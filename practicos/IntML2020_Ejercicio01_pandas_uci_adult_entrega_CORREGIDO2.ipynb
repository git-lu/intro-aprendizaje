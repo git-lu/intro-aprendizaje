{
 "cells": [
  {
   "cell_type": "markdown",
   "metadata": {},
   "source": []
  },
  {
   "cell_type": "markdown",
   "metadata": {},
   "source": [
    "<center>\n",
    "<img src=\"../images/ods_stickers.jpg\" />\n",
    "    \n",
    "# Introducción al Machine Learning 2020\n",
    "\n",
    "Basado en material de  [Yury Kashnitsky](https://yorko.github.io). Traducido y editado al español por [Ana Georgina Flesia](https://www.linkedin.com/in/georginaflesia/). Este material esta sujeto a los términos y condiciones de la licencia  [Creative Commons CC BY-NC-SA 4.0](https://creativecommons.org/licenses/by-nc-sa/4.0/). Se permite el uso irrestricto para todo propósito no comercial."
   ]
  },
  {
   "cell_type": "markdown",
   "metadata": {},
   "source": [
    "#  Ejercicio 1. Análisis exploratorio con Pandas\n",
    "\n",
    "<img src=\"images/pandas.jpg\"  width=50% />\n"
   ]
  },
  {
   "cell_type": "markdown",
   "metadata": {},
   "source": [
    "**1. Cuantas mujeres y hombres (variable *sex* ) estan representadas en este dataset?** "
   ]
  },
  {
   "cell_type": "markdown",
   "metadata": {},
   "source": [
    "(a) 21790 hombres y 10771 mujeres\n",
    "\n",
    "(b) 16346 hombres y 12532 mujeres\n",
    "\n",
    "(c) 21790 mujeres y 10771 hombres\n",
    "\n",
    "(d) 16346 mujeres y 12532 hombres"
   ]
  },
  {
   "cell_type": "markdown",
   "metadata": {},
   "source": [
    "**Su respuesta**"
   ]
  },
  {
   "cell_type": "markdown",
   "metadata": {},
   "source": [
    "**2. Cual es la edad promedio (variable *age* ) de las mujeres?**"
   ]
  },
  {
   "cell_type": "markdown",
   "metadata": {},
   "source": [
    "(a) 34.67\n",
    "\n",
    "(b) 35.95\n",
    "\n",
    "(c) 36.86\n",
    "\n",
    "(d) 37.04\n"
   ]
  },
  {
   "cell_type": "markdown",
   "metadata": {},
   "source": [
    "**Su respuesta**"
   ]
  },
  {
   "cell_type": "markdown",
   "metadata": {},
   "source": [
    "**3. Cual es el porcentaje de ciudadanos alemanes (variable *native-country*)?**"
   ]
  },
  {
   "cell_type": "markdown",
   "metadata": {},
   "source": [
    "(a) 1.13\n",
    "\n",
    "(b) 0.42\n",
    "\n",
    "(c) 1.42\n",
    "\n",
    "(d) 0.36"
   ]
  },
  {
   "cell_type": "markdown",
   "metadata": {},
   "source": [
    "**Su respuesta**"
   ]
  },
  {
   "cell_type": "markdown",
   "metadata": {},
   "source": [
    "**4. Cuales son la media y la desviacion estandard de la edad para aquellos que ganan mas de 50k por año (variable *salary*) ?**"
   ]
  },
  {
   "cell_type": "markdown",
   "metadata": {},
   "source": [
    "(a) 45 +- 9.5 years\n",
    "\n",
    "(b) 42 +- 11.5 years\n",
    "\n",
    "(c) 41 +- 12.5 years\n",
    "\n",
    "(d) 44 +- 10.5 years"
   ]
  },
  {
   "cell_type": "markdown",
   "metadata": {},
   "source": [
    "**Su respuesta**"
   ]
  },
  {
   "cell_type": "markdown",
   "metadata": {},
   "source": [
    "**5. Cuales son la media y la desviacion estandard de la edad para aquellos que ganan menos de 50k por año (variable *salary*) ?**"
   ]
  },
  {
   "cell_type": "markdown",
   "metadata": {},
   "source": [
    "(a) 37 +- 14 years\n",
    "\n",
    "(b) 38 +- 14 years\n",
    "\n",
    "(c) 39 +- 15 years\n",
    "\n",
    "(d) 40 +- 15 years"
   ]
  },
  {
   "cell_type": "markdown",
   "metadata": {},
   "source": [
    "**Su respuesta**"
   ]
  },
  {
   "cell_type": "markdown",
   "metadata": {},
   "source": [
    "**6. Es cierto que la gente que gana mas que 50K tiene al menos educacion media completa? (variable *education – Bachelors, Prof-school, Assoc-acdm, Assoc-voc, Masters* or *Doctorate*)**"
   ]
  },
  {
   "cell_type": "markdown",
   "metadata": {},
   "source": [
    "(a) Si\n",
    "\n",
    "(b) No"
   ]
  },
  {
   "cell_type": "markdown",
   "metadata": {},
   "source": [
    "**Su respuesta**"
   ]
  },
  {
   "cell_type": "markdown",
   "metadata": {},
   "source": [
    "**7. Muestre los estadisticos para cada raza (*race* feature) y cada género (*sex* feature). Use *groupby()* y *describe()*. Encuentre la edad maxima de los hombres de la raza *Amer-Indian-Eskimo* .**"
   ]
  },
  {
   "cell_type": "markdown",
   "metadata": {},
   "source": [
    "(a) 78\n",
    "\n",
    "(b) 82\n",
    "\n",
    "(c) 87\n",
    "\n",
    "(d) 88"
   ]
  },
  {
   "cell_type": "markdown",
   "metadata": {},
   "source": [
    "**Su respuesta**"
   ]
  },
  {
   "cell_type": "markdown",
   "metadata": {},
   "source": [
    "**8. De las siguientes categorías, cual es la que tiene la mayor proporcion de ricos (>50K): married or single men (variable *marital-status*)? Considere como casados  aquellos que tienen *marital-status* comenzando por *Married* (Married-civ-spouse, Married-spouse-absent or Married-AF-spouse), el resto son bachelors.**"
   ]
  },
  {
   "cell_type": "markdown",
   "metadata": {},
   "source": [
    "(a) entre los casados\n",
    "\n",
    "(b) entre los solteros"
   ]
  },
  {
   "cell_type": "markdown",
   "metadata": {},
   "source": [
    "**Su respuesta**"
   ]
  },
  {
   "cell_type": "markdown",
   "metadata": {},
   "source": [
    "**9. Cual es el máximo de horas que una persona trabaja por semana? (variable *hours-per-week*)? Cuantas personas trabajan ese numero de horas y cual es el porcentaje entre esas personas que ademas ganan mucho (>50K) ?**"
   ]
  },
  {
   "cell_type": "markdown",
   "metadata": {},
   "source": [
    "(a) 102 hora/semana, 20 personas, 41% son ricas\n",
    "\n",
    "(b) 99 hora/semana, 95 personas, 30% son ricas\n",
    "\n",
    "(c) 99 hora/semana, 85 personas, 29% son ricas\n",
    "\n",
    "(d) 90 hora/semana, 70 personas, 34% son ricas\n"
   ]
  },
  {
   "cell_type": "markdown",
   "metadata": {},
   "source": [
    "**Su respuesta**"
   ]
  },
  {
   "cell_type": "markdown",
   "metadata": {},
   "source": [
    "**10. Cuente el numero de horas de trabajo (*hours-per-week*) PROMEDIO de aquellos que ganan poco, y de los que ganan mucho (*salary*) para cada pais (*native-country*). Cuales son esos conteos PROMEDIO para Japon? (REDONDEADO) **"
   ]
  },
  {
   "cell_type": "markdown",
   "metadata": {},
   "source": [
    "(a) 41 y 48\n",
    "\n",
    "(b) 46 y 43\n",
    "\n",
    "(c) 44 y 48\n",
    "\n",
    "(d) 41 and 40\n"
   ]
  },
  {
   "cell_type": "markdown",
   "metadata": {},
   "source": [
    "**Su respuesta**"
   ]
  }
 ],
 "metadata": {
  "kernelspec": {
   "display_name": "Python 3",
   "language": "python",
   "name": "python3"
  },
  "language_info": {
   "codemirror_mode": {
    "name": "ipython",
    "version": 3
   },
   "file_extension": ".py",
   "mimetype": "text/x-python",
   "name": "python",
   "nbconvert_exporter": "python",
   "pygments_lexer": "ipython3",
   "version": "3.6.4"
  }
 },
 "nbformat": 4,
 "nbformat_minor": 2
}
